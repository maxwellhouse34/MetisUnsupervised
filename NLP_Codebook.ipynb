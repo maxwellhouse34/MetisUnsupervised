{
  "nbformat": 4,
  "nbformat_minor": 0,
  "metadata": {
    "colab": {
      "name": "NLP_Codebook.ipynb",
      "provenance": []
    },
    "kernelspec": {
      "display_name": "Python 3",
      "language": "python",
      "name": "python3"
    },
    "language_info": {
      "codemirror_mode": {
        "name": "ipython",
        "version": 3
      },
      "file_extension": ".py",
      "mimetype": "text/x-python",
      "name": "python",
      "nbconvert_exporter": "python",
      "pygments_lexer": "ipython3",
      "version": "3.8.8"
    }
  },
  "cells": [
    {
      "cell_type": "markdown",
      "metadata": {
        "id": "TBH6su_xcqmo"
      },
      "source": [
        "# Toxic Comment Codebook\n"
      ]
    },
    {
      "cell_type": "markdown",
      "metadata": {
        "id": "K1o-a1hRcwqf"
      },
      "source": [
        "## Loading and EDA"
      ]
    },
    {
      "cell_type": "code",
      "metadata": {
        "colab": {
          "base_uri": "https://localhost:8080/"
        },
        "id": "FoZgovFXl-MG",
        "outputId": "ec314698-43fb-4590-aa27-c6141f176ba2"
      },
      "source": [
        "\n",
        "\n",
        "import os\n",
        "import sys\n",
        "ENV_COLAB = 'google.colab' in sys.modules\n",
        "\n",
        "if ENV_COLAB:\n",
        "    ## install modules\n",
        "    !pip install pyldavis\n",
        "\n",
        "    ## print\n",
        "    print('Environment: Google Colaboratory.')\n",
        "\n"
      ],
      "execution_count": 17,
      "outputs": [
        {
          "output_type": "stream",
          "name": "stdout",
          "text": [
            "Requirement already satisfied: pyldavis in /usr/local/lib/python3.7/dist-packages (3.3.1)\n",
            "Requirement already satisfied: funcy in /usr/local/lib/python3.7/dist-packages (from pyldavis) (1.16)\n",
            "Requirement already satisfied: scipy in /usr/local/lib/python3.7/dist-packages (from pyldavis) (1.4.1)\n",
            "Requirement already satisfied: numpy>=1.20.0 in /usr/local/lib/python3.7/dist-packages (from pyldavis) (1.21.2)\n",
            "Requirement already satisfied: joblib in /usr/local/lib/python3.7/dist-packages (from pyldavis) (1.0.1)\n",
            "Requirement already satisfied: jinja2 in /usr/local/lib/python3.7/dist-packages (from pyldavis) (2.11.3)\n",
            "Requirement already satisfied: numexpr in /usr/local/lib/python3.7/dist-packages (from pyldavis) (2.7.3)\n",
            "Requirement already satisfied: pandas>=1.2.0 in /usr/local/lib/python3.7/dist-packages (from pyldavis) (1.3.3)\n",
            "Requirement already satisfied: sklearn in /usr/local/lib/python3.7/dist-packages (from pyldavis) (0.0)\n",
            "Requirement already satisfied: scikit-learn in /usr/local/lib/python3.7/dist-packages (from pyldavis) (0.22.2.post1)\n",
            "Requirement already satisfied: setuptools in /usr/local/lib/python3.7/dist-packages (from pyldavis) (57.4.0)\n",
            "Requirement already satisfied: gensim in /usr/local/lib/python3.7/dist-packages (from pyldavis) (4.1.2)\n",
            "Requirement already satisfied: future in /usr/local/lib/python3.7/dist-packages (from pyldavis) (0.16.0)\n",
            "Requirement already satisfied: python-dateutil>=2.7.3 in /usr/local/lib/python3.7/dist-packages (from pandas>=1.2.0->pyldavis) (2.8.2)\n",
            "Requirement already satisfied: pytz>=2017.3 in /usr/local/lib/python3.7/dist-packages (from pandas>=1.2.0->pyldavis) (2018.9)\n",
            "Requirement already satisfied: six>=1.5 in /usr/local/lib/python3.7/dist-packages (from python-dateutil>=2.7.3->pandas>=1.2.0->pyldavis) (1.15.0)\n",
            "Requirement already satisfied: smart-open>=1.8.1 in /usr/local/lib/python3.7/dist-packages (from gensim->pyldavis) (5.1.0)\n",
            "Requirement already satisfied: MarkupSafe>=0.23 in /usr/local/lib/python3.7/dist-packages (from jinja2->pyldavis) (2.0.1)\n",
            "Environment: Google Colaboratory.\n"
          ]
        }
      ]
    },
    {
      "cell_type": "code",
      "metadata": {
        "id": "__9bjoSkqNnk"
      },
      "source": [
        "import pandas as pd\n",
        "import numpy as np\n",
        "from sklearn.feature_extraction.text import TfidfVectorizer, CountVectorizer\n",
        "from sklearn.model_selection import train_test_split\n",
        "from sklearn.decomposition import NMF, PCA\n",
        "import nltk\n",
        "from nltk.util import ngrams\n",
        "from nltk.tokenize import RegexpTokenizer\n",
        "from nltk.stem import PorterStemmer, SnowballStemmer, LancasterStemmer\n",
        "import re\n",
        "import string\n",
        "import spacy\n",
        "import gensim\n",
        "from gensim import corpora, models, similarities, matutils\n",
        "from google.colab import drive,files\n",
        "import time\n",
        "from collections import Counter\n",
        "from textblob import TextBlob\n",
        "from textblob import Word\n",
        "\n",
        "import gensim.corpora as corpora\n",
        "from gensim.utils import simple_preprocess\n",
        "from gensim.models import CoherenceModel\n",
        "import pyLDAvis\n",
        "import pyLDAvis.gensim_models\n",
        "\n",
        "import seaborn as sns\n",
        "import matplotlib.pyplot as plt\n",
        "import warnings\n",
        "warnings.filterwarnings(\"ignore\", category=DeprecationWarning)"
      ],
      "execution_count": 55,
      "outputs": []
    },
    {
      "cell_type": "code",
      "metadata": {
        "colab": {
          "base_uri": "https://localhost:8080/"
        },
        "id": "obn4x6-SqyRz",
        "outputId": "70a553b1-9111-49d4-d23d-c5a464b46f70"
      },
      "source": [
        "drive.mount('/content/gdrive')\n",
        "train = pd.read_csv('gdrive/My Drive/Metis/NLP/NLP_Project/train.csv', usecols = ['comment_text', 'toxic', 'severe_toxic', 'obscene', 'threat', 'insult',\n",
        "      'identity_hate'])\n",
        "train[\"unsafe\"] = (train.iloc[:,1:].sum(axis = 1) != 0).astype(\"int\")\n",
        "      "
      ],
      "execution_count": 19,
      "outputs": [
        {
          "output_type": "stream",
          "name": "stdout",
          "text": [
            "Drive already mounted at /content/gdrive; to attempt to forcibly remount, call drive.mount(\"/content/gdrive\", force_remount=True).\n"
          ]
        }
      ]
    },
    {
      "cell_type": "code",
      "metadata": {
        "colab": {
          "base_uri": "https://localhost:8080/",
          "height": 206
        },
        "id": "FNxBug3sqNnl",
        "outputId": "6d06b089-ab23-47d5-bd3f-c8b3b9b8de09"
      },
      "source": [
        "train.head()"
      ],
      "execution_count": 20,
      "outputs": [
        {
          "output_type": "execute_result",
          "data": {
            "text/html": [
              "<div>\n",
              "<style scoped>\n",
              "    .dataframe tbody tr th:only-of-type {\n",
              "        vertical-align: middle;\n",
              "    }\n",
              "\n",
              "    .dataframe tbody tr th {\n",
              "        vertical-align: top;\n",
              "    }\n",
              "\n",
              "    .dataframe thead th {\n",
              "        text-align: right;\n",
              "    }\n",
              "</style>\n",
              "<table border=\"1\" class=\"dataframe\">\n",
              "  <thead>\n",
              "    <tr style=\"text-align: right;\">\n",
              "      <th></th>\n",
              "      <th>comment_text</th>\n",
              "      <th>toxic</th>\n",
              "      <th>severe_toxic</th>\n",
              "      <th>obscene</th>\n",
              "      <th>threat</th>\n",
              "      <th>insult</th>\n",
              "      <th>identity_hate</th>\n",
              "      <th>unsafe</th>\n",
              "    </tr>\n",
              "  </thead>\n",
              "  <tbody>\n",
              "    <tr>\n",
              "      <th>0</th>\n",
              "      <td>Explanation\\nWhy the edits made under my usern...</td>\n",
              "      <td>0</td>\n",
              "      <td>0</td>\n",
              "      <td>0</td>\n",
              "      <td>0</td>\n",
              "      <td>0</td>\n",
              "      <td>0</td>\n",
              "      <td>0</td>\n",
              "    </tr>\n",
              "    <tr>\n",
              "      <th>1</th>\n",
              "      <td>D'aww! He matches this background colour I'm s...</td>\n",
              "      <td>0</td>\n",
              "      <td>0</td>\n",
              "      <td>0</td>\n",
              "      <td>0</td>\n",
              "      <td>0</td>\n",
              "      <td>0</td>\n",
              "      <td>0</td>\n",
              "    </tr>\n",
              "    <tr>\n",
              "      <th>2</th>\n",
              "      <td>Hey man, I'm really not trying to edit war. It...</td>\n",
              "      <td>0</td>\n",
              "      <td>0</td>\n",
              "      <td>0</td>\n",
              "      <td>0</td>\n",
              "      <td>0</td>\n",
              "      <td>0</td>\n",
              "      <td>0</td>\n",
              "    </tr>\n",
              "    <tr>\n",
              "      <th>3</th>\n",
              "      <td>\"\\nMore\\nI can't make any real suggestions on ...</td>\n",
              "      <td>0</td>\n",
              "      <td>0</td>\n",
              "      <td>0</td>\n",
              "      <td>0</td>\n",
              "      <td>0</td>\n",
              "      <td>0</td>\n",
              "      <td>0</td>\n",
              "    </tr>\n",
              "    <tr>\n",
              "      <th>4</th>\n",
              "      <td>You, sir, are my hero. Any chance you remember...</td>\n",
              "      <td>0</td>\n",
              "      <td>0</td>\n",
              "      <td>0</td>\n",
              "      <td>0</td>\n",
              "      <td>0</td>\n",
              "      <td>0</td>\n",
              "      <td>0</td>\n",
              "    </tr>\n",
              "  </tbody>\n",
              "</table>\n",
              "</div>"
            ],
            "text/plain": [
              "                                        comment_text  ...  unsafe\n",
              "0  Explanation\\nWhy the edits made under my usern...  ...       0\n",
              "1  D'aww! He matches this background colour I'm s...  ...       0\n",
              "2  Hey man, I'm really not trying to edit war. It...  ...       0\n",
              "3  \"\\nMore\\nI can't make any real suggestions on ...  ...       0\n",
              "4  You, sir, are my hero. Any chance you remember...  ...       0\n",
              "\n",
              "[5 rows x 8 columns]"
            ]
          },
          "metadata": {},
          "execution_count": 20
        }
      ]
    },
    {
      "cell_type": "code",
      "metadata": {
        "colab": {
          "base_uri": "https://localhost:8080/",
          "height": 300
        },
        "id": "544c3LdwqNnl",
        "outputId": "bf6024ba-1b08-47d6-be5c-9a2d9631f2cc"
      },
      "source": [
        "train.describe()"
      ],
      "execution_count": 21,
      "outputs": [
        {
          "output_type": "execute_result",
          "data": {
            "text/html": [
              "<div>\n",
              "<style scoped>\n",
              "    .dataframe tbody tr th:only-of-type {\n",
              "        vertical-align: middle;\n",
              "    }\n",
              "\n",
              "    .dataframe tbody tr th {\n",
              "        vertical-align: top;\n",
              "    }\n",
              "\n",
              "    .dataframe thead th {\n",
              "        text-align: right;\n",
              "    }\n",
              "</style>\n",
              "<table border=\"1\" class=\"dataframe\">\n",
              "  <thead>\n",
              "    <tr style=\"text-align: right;\">\n",
              "      <th></th>\n",
              "      <th>toxic</th>\n",
              "      <th>severe_toxic</th>\n",
              "      <th>obscene</th>\n",
              "      <th>threat</th>\n",
              "      <th>insult</th>\n",
              "      <th>identity_hate</th>\n",
              "      <th>unsafe</th>\n",
              "    </tr>\n",
              "  </thead>\n",
              "  <tbody>\n",
              "    <tr>\n",
              "      <th>count</th>\n",
              "      <td>159571.000000</td>\n",
              "      <td>159571.000000</td>\n",
              "      <td>159571.000000</td>\n",
              "      <td>159571.000000</td>\n",
              "      <td>159571.000000</td>\n",
              "      <td>159571.000000</td>\n",
              "      <td>159571.000000</td>\n",
              "    </tr>\n",
              "    <tr>\n",
              "      <th>mean</th>\n",
              "      <td>0.095844</td>\n",
              "      <td>0.009996</td>\n",
              "      <td>0.052948</td>\n",
              "      <td>0.002996</td>\n",
              "      <td>0.049364</td>\n",
              "      <td>0.008805</td>\n",
              "      <td>0.101679</td>\n",
              "    </tr>\n",
              "    <tr>\n",
              "      <th>std</th>\n",
              "      <td>0.294379</td>\n",
              "      <td>0.099477</td>\n",
              "      <td>0.223931</td>\n",
              "      <td>0.054650</td>\n",
              "      <td>0.216627</td>\n",
              "      <td>0.093420</td>\n",
              "      <td>0.302226</td>\n",
              "    </tr>\n",
              "    <tr>\n",
              "      <th>min</th>\n",
              "      <td>0.000000</td>\n",
              "      <td>0.000000</td>\n",
              "      <td>0.000000</td>\n",
              "      <td>0.000000</td>\n",
              "      <td>0.000000</td>\n",
              "      <td>0.000000</td>\n",
              "      <td>0.000000</td>\n",
              "    </tr>\n",
              "    <tr>\n",
              "      <th>25%</th>\n",
              "      <td>0.000000</td>\n",
              "      <td>0.000000</td>\n",
              "      <td>0.000000</td>\n",
              "      <td>0.000000</td>\n",
              "      <td>0.000000</td>\n",
              "      <td>0.000000</td>\n",
              "      <td>0.000000</td>\n",
              "    </tr>\n",
              "    <tr>\n",
              "      <th>50%</th>\n",
              "      <td>0.000000</td>\n",
              "      <td>0.000000</td>\n",
              "      <td>0.000000</td>\n",
              "      <td>0.000000</td>\n",
              "      <td>0.000000</td>\n",
              "      <td>0.000000</td>\n",
              "      <td>0.000000</td>\n",
              "    </tr>\n",
              "    <tr>\n",
              "      <th>75%</th>\n",
              "      <td>0.000000</td>\n",
              "      <td>0.000000</td>\n",
              "      <td>0.000000</td>\n",
              "      <td>0.000000</td>\n",
              "      <td>0.000000</td>\n",
              "      <td>0.000000</td>\n",
              "      <td>0.000000</td>\n",
              "    </tr>\n",
              "    <tr>\n",
              "      <th>max</th>\n",
              "      <td>1.000000</td>\n",
              "      <td>1.000000</td>\n",
              "      <td>1.000000</td>\n",
              "      <td>1.000000</td>\n",
              "      <td>1.000000</td>\n",
              "      <td>1.000000</td>\n",
              "      <td>1.000000</td>\n",
              "    </tr>\n",
              "  </tbody>\n",
              "</table>\n",
              "</div>"
            ],
            "text/plain": [
              "               toxic   severe_toxic  ...  identity_hate         unsafe\n",
              "count  159571.000000  159571.000000  ...  159571.000000  159571.000000\n",
              "mean        0.095844       0.009996  ...       0.008805       0.101679\n",
              "std         0.294379       0.099477  ...       0.093420       0.302226\n",
              "min         0.000000       0.000000  ...       0.000000       0.000000\n",
              "25%         0.000000       0.000000  ...       0.000000       0.000000\n",
              "50%         0.000000       0.000000  ...       0.000000       0.000000\n",
              "75%         0.000000       0.000000  ...       0.000000       0.000000\n",
              "max         1.000000       1.000000  ...       1.000000       1.000000\n",
              "\n",
              "[8 rows x 7 columns]"
            ]
          },
          "metadata": {},
          "execution_count": 21
        }
      ]
    },
    {
      "cell_type": "code",
      "metadata": {
        "colab": {
          "base_uri": "https://localhost:8080/"
        },
        "id": "F7oI47ZTqNnm",
        "outputId": "c68ced37-3cb0-46bc-9cae-967f47effd61"
      },
      "source": [
        "train.info()"
      ],
      "execution_count": 22,
      "outputs": [
        {
          "output_type": "stream",
          "name": "stdout",
          "text": [
            "<class 'pandas.core.frame.DataFrame'>\n",
            "RangeIndex: 159571 entries, 0 to 159570\n",
            "Data columns (total 8 columns):\n",
            " #   Column         Non-Null Count   Dtype \n",
            "---  ------         --------------   ----- \n",
            " 0   comment_text   159571 non-null  object\n",
            " 1   toxic          159571 non-null  int64 \n",
            " 2   severe_toxic   159571 non-null  int64 \n",
            " 3   obscene        159571 non-null  int64 \n",
            " 4   threat         159571 non-null  int64 \n",
            " 5   insult         159571 non-null  int64 \n",
            " 6   identity_hate  159571 non-null  int64 \n",
            " 7   unsafe         159571 non-null  int64 \n",
            "dtypes: int64(7), object(1)\n",
            "memory usage: 9.7+ MB\n"
          ]
        }
      ]
    },
    {
      "cell_type": "code",
      "metadata": {
        "colab": {
          "base_uri": "https://localhost:8080/"
        },
        "id": "hNtnYHzBqNnm",
        "outputId": "af4fbb81-b1e0-4e31-e673-29719262b877"
      },
      "source": [
        "#random assorment of comments\n",
        "for i in np.random.randint(0,high= 150000, size = 3):\n",
        "  print(train.comment_text[i])\n",
        "  print(\"\\nbreak\\n\")"
      ],
      "execution_count": 23,
      "outputs": [
        {
          "output_type": "stream",
          "name": "stdout",
          "text": [
            "\":Lsi john, I've already invited you to bring this to WP:RFAR.  WP:AN is another standard venue.  If you wish to make claims against me, please substantiate them with adequate evidence.  Per WP:AGF, the burden of proof rests squarely on your shoulders.  I don't believe my actions have been inappropriate. Charge! \n",
            "\n",
            "\"\n",
            "\n",
            "break\n",
            "\n",
            "Thank you Parkin for helping me out and I promise I will do my best.\n",
            "\n",
            "break\n",
            "\n",
            "\" the Afd reverted on page Gadugi and Karmosin sanctioned for violating wiki/Wales policy of We Are Nice People Who Do Not Act This Way.  On his user page his lists himself as a \"\"rebel\"\" which isn't something that fits in with Wiki's peaceful honeybee meme.  While I respect all peoples right to their views and opinions, after an Afd completes, nominating pages out of retaliation in an attempt to oppress the majority is improper.  I would like this user punished for 1) violating policies and 2) wasting yet more of my valuable time answering stupid and frivolous Afd requests and 3) interfering with me writing more articles.  UPDATE:  Karmosin is also making RACIST STATEMENTS on the Afd page for Cherokee Moons Ceremonies which attack my race and culture calling my work \"\"Cherokee-Cruft\"\".   This conduct is WHOLLY unacceptable.\n",
            "\n",
            "\"\n",
            "\n",
            "break\n",
            "\n"
          ]
        }
      ]
    },
    {
      "cell_type": "code",
      "metadata": {
        "colab": {
          "base_uri": "https://localhost:8080/"
        },
        "id": "5ZUGrmn8JscX",
        "outputId": "78cdb835-70e5-4eb0-d21e-8c9fb359dc03"
      },
      "source": [
        "#random assorment of good comments\n",
        "for i in np.random.randint(0,high= len(train[train[\"unsafe\"]==0]), size = 3):\n",
        "  print(train[train[\"unsafe\"]==0].iloc[i,0])\n",
        "  print(\"\\nbreak\\n\")"
      ],
      "execution_count": 24,
      "outputs": [
        {
          "output_type": "stream",
          "name": "stdout",
          "text": [
            "FYI, I managed to find that verification you were looking for Mr Lane -94.192.243.100\n",
            "\n",
            "break\n",
            "\n",
            "\"\n",
            "| style=\"\"padding: 0.1em\"\" | \n",
            "\n",
            "Your request to be unblocked has been granted for the following reason(s):\n",
            "Autoblock of 86.132.248.231 lifted or expired.\n",
            "\n",
            "Request handled by:  \n",
            "\n",
            "|}\"\n",
            "\n",
            "break\n",
            "\n",
            "\"\n",
            "\n",
            " Is OhInternet a recreation of Encyclopedia Dramatica? \n",
            "\n",
            "To tangent from the above topics…\n",
            "\n",
            "Oh Internet is not Encyopedia Dramatica as the article supposes. 'Encyclopedia Dramatica' is defined as the domain name 'www.encyclopediadramatica.com' and the intellectual property concerned with ED copyright. OhInternet, however is a different project entirely; notable differences: a new XML coding system, logo and form of satire. To use terms in the article: the site was not 'overhauled' but rather 'replaced'. \n",
            "\n",
            "To use Silverseren's analogy, if Wikipedia did rename itself, kept most of its higher administration and stopped using Wikimedia software would it still be Wikipedia? The answer is \"\"No\"\". The Wikipedia name and intellectual property becomes inactive, lost. If one were to charge a Wikipedia fork site with copyright violations they would have to give evidence of their ownership of Wikipedia copyright and not that of the new 'OhKnowledge.com', the hypothetical Wikipedia replacement. (Sherrod, however does have evidence, so don't take this as a justification for the .ch). Once a site loses connection with the old name or any registered associated material it ceases to be the same entity. Oh Internet has no parallels to the old site at all. The position that the new site is ED just 'cleaned' should be removed from the article immediately.\n",
            "\n",
            "Encyclopedia Dramatica, as defined, is dead. OhInternet is a whole new project – a de facto successor, but not 'ED'. The redirect was an attempt to maintain website hits but as many 3rd party websites will show, it didn't quite work out. The vast majority of the volunteer editors did leave. Site activity, growth and edit numbers are much higher at encyopediadramaticia.ch than at OhInternet. OhInternet’s declining popularity should first stabilize before any 'notability' assessment goes underway. \n",
            "\n",
            "Understandably the nature of ED.ch is illegal so I don't care for it immediate coverage. I like to think the site will cool down over time.\n",
            "\n",
            "94.170.94.249  \"\n",
            "\n",
            "break\n",
            "\n"
          ]
        }
      ]
    },
    {
      "cell_type": "code",
      "metadata": {
        "colab": {
          "base_uri": "https://localhost:8080/"
        },
        "id": "9QLsW1FKJ3T2",
        "outputId": "e74ef0fd-31c8-4549-856a-ec17444e7764"
      },
      "source": [
        "#random assorment of bad comments\n",
        "for i in np.random.randint(0,high= len(train[train[\"unsafe\"]==1]), size = 3):\n",
        "    print(train[train[\"unsafe\"]==1].iloc[i,0])\n",
        "    print(\"\\nbreak\\n\")"
      ],
      "execution_count": 69,
      "outputs": [
        {
          "output_type": "stream",
          "name": "stdout",
          "text": [
            "Pure trolling \n",
            "\n",
            "hi moron hi moron hi moron hi moron hi moron hi moron hi moron hi moron hi moron hi moron hi moron hi moron hi moron hi moron hi moron hi moron hi moron hi moron hi moron hi moron hi moron hi moron hi moron hi moron hi moron hi moron hi moron hi moron hi moron hi moron hi moron hi moron hi moron hi moron hi moron hi moron hi moron hi moron hi moron hi moron hi moron hi moron hi moron hi moron hi moron hi moron hi moron hi moron hi moron hi moron hi moron hi moron hi moron hi moron hi moron hi moron hi moron hi moron hi moron hi moron hi moron hi moron hi moron hi moron hi moron hi moron hi moron hi moron hi moron hi moron hi moron hi moronhi moron hi moron hi moron hi moron hi moron hi moron hi moron hi moron hi moron hi moron hi moron hi moron hi moron hi moron hi moron hi moron hi moron hi moron hi moron hi moron hi moron hi moron hi moron hi moron hi moron hi moron hi moron hi moron hi moron hi moron hi moron hi moron hi moron hi moron hi moron hi moronhi moron hi moron hi moron hi moron hi moron hi moron hi moron hi moron hi moron hi moron hi moron hi moron hi moron hi moron hi moron hi moron hi moron hi moron hi moron hi moron hi moron hi moron hi moron hi moron hi moron hi moron hi moron hi moron hi moron hi moron hi moron hi moron hi moron hi moron hi moron hi moronhi moron hi moron hi moron hi moron hi moron hi moron hi moron hi moron hi moron hi moron hi moron hi moron hi moron hi moron hi moron hi moron hi moron hi moron hi moron hi moron hi moron hi moron hi moron hi moron hi moron hi moron hi moron hi moron hi moron hi moron hi moron hi moron hi moron hi moron hi moron hi moron\n",
            "\n",
            "break\n",
            "\n",
            "I no longer give a shit! Go ahead and fuck up the article! I will have a good laugh when egg hits face after shit hits fan.\n",
            "\n",
            "break\n",
            "\n",
            "\"\n",
            "\n",
            "Hey you, whyd you \"\"undo\"\" my edit? and how the fuck is it unconstructive? u oughta try coming down here and see how constructive my edit was? u need glasses mister! and if u already wear them, then get a fucking new pair cos boy, ur sure gonna need them when u come down here pal if u reckon my edit was \"\"unconstructive\"\"\"\n",
            "\n",
            "break\n",
            "\n"
          ]
        }
      ]
    },
    {
      "cell_type": "code",
      "metadata": {
        "colab": {
          "base_uri": "https://localhost:8080/"
        },
        "id": "L0fbk-GwRYDW",
        "outputId": "2650378e-89b9-4262-896e-9894f077d164"
      },
      "source": [
        "for text in train.comment_text:\n",
        "  if text.find(\"Lion King\")>=0:\n",
        "    print(text)\n",
        "    print(\"\\n\")"
      ],
      "execution_count": 26,
      "outputs": [
        {
          "output_type": "stream",
          "name": "stdout",
          "text": [
            "\"\n",
            "\n",
            "Yeah, I didn't get far in the game. It was fun to play, but I think either it froze up on me during play, or the Playstation did...I can't remember the reason I stopped playing it. I love Short Circuit 2; the first was good, but for some reason the second had more charm...even if it was a poorer made movie. I was never big into Disney. I think my favorite as a child were The Lion King and Rescurers Down Under-maybe even The Great Mouse Detective. Too much singing for my tastes. I'll take Nightmare/Christmas over The Little Mermaid. Speaking of which, Nightmare/Christmas was just released in 3-D. Toy Story was awesome...lol, I was just reciting some dialogue to the first one two nights ago. I was thinking about buying them. I don't remember seeing the second film all the way through.   (Contact me) \"\n",
            "\n",
            "\n",
            "\"\n",
            "\n",
            "He was ALSO the singing voice of Scar in Lion King, after Jeremy Irons sortof broke his voice after the \"\"You won't get a sniff without me!\"\" in Be Prepared.... -X\"\n",
            "\n",
            "\n",
            "Please help \n",
            "\n",
            "All my improvements and corrections are being vandalized by some users in the Lion King pages. For example, I corrected that Kiara is Simab's heir and successor as stated in the movie. Then someone kept reverting it back so that Kiara is not heir. Can you help me?\n",
            "\n",
            "\n",
            "Thanks for screwing up the Lion King family tree! Luckily, I reverted back your halfassed edits.\n",
            "\n",
            "\n",
            "I give up\n",
            "Thanks for ruining the Lion King pages. Go ahead it fuck it up some more.\n",
            "\n",
            "\n"
          ]
        }
      ]
    },
    {
      "cell_type": "code",
      "metadata": {
        "colab": {
          "base_uri": "https://localhost:8080/"
        },
        "id": "lGPI9hmAqNnm",
        "outputId": "a4f98f35-9e3c-4f2e-a44b-571c2baae6dd"
      },
      "source": [
        "#rough word count and charcter count\n",
        "train.comment_text.str.count(\" \").describe()\n",
        "train.comment_text.str.len().describe()"
      ],
      "execution_count": 27,
      "outputs": [
        {
          "output_type": "execute_result",
          "data": {
            "text/plain": [
              "count    159571.000000\n",
              "mean        394.073221\n",
              "std         590.720282\n",
              "min           6.000000\n",
              "25%          96.000000\n",
              "50%         205.000000\n",
              "75%         435.000000\n",
              "max        5000.000000\n",
              "Name: comment_text, dtype: float64"
            ]
          },
          "metadata": {},
          "execution_count": 27
        }
      ]
    },
    {
      "cell_type": "code",
      "metadata": {
        "colab": {
          "base_uri": "https://localhost:8080/"
        },
        "id": "2A4xFRz1gyuy",
        "outputId": "5dee0d11-4ce0-47af-dba1-c7fb9efa71da"
      },
      "source": [
        "#rough word and character count for unsafe comments\n",
        "train[train[\"unsafe\"]==1].comment_text.str.count(\" \").describe()\n",
        "train[train[\"unsafe\"]==1].comment_text.str.len().describe()"
      ],
      "execution_count": 28,
      "outputs": [
        {
          "output_type": "execute_result",
          "data": {
            "text/plain": [
              "count    16225.000000\n",
              "mean       303.304037\n",
              "std        619.402896\n",
              "min          8.000000\n",
              "25%         61.000000\n",
              "50%        128.000000\n",
              "75%        283.000000\n",
              "max       5000.000000\n",
              "Name: comment_text, dtype: float64"
            ]
          },
          "metadata": {},
          "execution_count": 28
        }
      ]
    },
    {
      "cell_type": "code",
      "metadata": {
        "colab": {
          "base_uri": "https://localhost:8080/"
        },
        "id": "qT-7WR6HiECi",
        "outputId": "350eae1b-9920-4c45-9a67-417ab28f8f67"
      },
      "source": [
        "#smallest comment bigger than nothing, largest is 5000 chars\n",
        "train.comment_text.str.len().sort_values()"
      ],
      "execution_count": 29,
      "outputs": [
        {
          "output_type": "execute_result",
          "data": {
            "text/plain": [
              "137062       6\n",
              "52442        6\n",
              "109985       8\n",
              "121074       8\n",
              "118850       8\n",
              "          ... \n",
              "22378     5000\n",
              "46583     5000\n",
              "10769     5000\n",
              "12895     5000\n",
              "56441     5000\n",
              "Name: comment_text, Length: 159571, dtype: int64"
            ]
          },
          "metadata": {},
          "execution_count": 29
        }
      ]
    },
    {
      "cell_type": "code",
      "metadata": {
        "colab": {
          "base_uri": "https://localhost:8080/",
          "height": 269
        },
        "id": "GlpVYYPpjP4B",
        "outputId": "867a6d3f-bf0f-4730-ccd6-c51d0109a3e2"
      },
      "source": [
        "#severe toxicity = toxic, insults and obscenties are highly correlated\n",
        "train.corr()"
      ],
      "execution_count": 30,
      "outputs": [
        {
          "output_type": "execute_result",
          "data": {
            "text/html": [
              "<div>\n",
              "<style scoped>\n",
              "    .dataframe tbody tr th:only-of-type {\n",
              "        vertical-align: middle;\n",
              "    }\n",
              "\n",
              "    .dataframe tbody tr th {\n",
              "        vertical-align: top;\n",
              "    }\n",
              "\n",
              "    .dataframe thead th {\n",
              "        text-align: right;\n",
              "    }\n",
              "</style>\n",
              "<table border=\"1\" class=\"dataframe\">\n",
              "  <thead>\n",
              "    <tr style=\"text-align: right;\">\n",
              "      <th></th>\n",
              "      <th>toxic</th>\n",
              "      <th>severe_toxic</th>\n",
              "      <th>obscene</th>\n",
              "      <th>threat</th>\n",
              "      <th>insult</th>\n",
              "      <th>identity_hate</th>\n",
              "      <th>unsafe</th>\n",
              "    </tr>\n",
              "  </thead>\n",
              "  <tbody>\n",
              "    <tr>\n",
              "      <th>toxic</th>\n",
              "      <td>1.000000</td>\n",
              "      <td>0.308619</td>\n",
              "      <td>0.676515</td>\n",
              "      <td>0.157058</td>\n",
              "      <td>0.647518</td>\n",
              "      <td>0.266009</td>\n",
              "      <td>0.967748</td>\n",
              "    </tr>\n",
              "    <tr>\n",
              "      <th>severe_toxic</th>\n",
              "      <td>0.308619</td>\n",
              "      <td>1.000000</td>\n",
              "      <td>0.403014</td>\n",
              "      <td>0.123601</td>\n",
              "      <td>0.375807</td>\n",
              "      <td>0.201600</td>\n",
              "      <td>0.298666</td>\n",
              "    </tr>\n",
              "    <tr>\n",
              "      <th>obscene</th>\n",
              "      <td>0.676515</td>\n",
              "      <td>0.403014</td>\n",
              "      <td>1.000000</td>\n",
              "      <td>0.141179</td>\n",
              "      <td>0.741272</td>\n",
              "      <td>0.286867</td>\n",
              "      <td>0.702812</td>\n",
              "    </tr>\n",
              "    <tr>\n",
              "      <th>threat</th>\n",
              "      <td>0.157058</td>\n",
              "      <td>0.123601</td>\n",
              "      <td>0.141179</td>\n",
              "      <td>1.000000</td>\n",
              "      <td>0.150022</td>\n",
              "      <td>0.115128</td>\n",
              "      <td>0.162925</td>\n",
              "    </tr>\n",
              "    <tr>\n",
              "      <th>insult</th>\n",
              "      <td>0.647518</td>\n",
              "      <td>0.375807</td>\n",
              "      <td>0.741272</td>\n",
              "      <td>0.150022</td>\n",
              "      <td>1.000000</td>\n",
              "      <td>0.337736</td>\n",
              "      <td>0.677324</td>\n",
              "    </tr>\n",
              "    <tr>\n",
              "      <th>identity_hate</th>\n",
              "      <td>0.266009</td>\n",
              "      <td>0.201600</td>\n",
              "      <td>0.286867</td>\n",
              "      <td>0.115128</td>\n",
              "      <td>0.337736</td>\n",
              "      <td>1.000000</td>\n",
              "      <td>0.280144</td>\n",
              "    </tr>\n",
              "    <tr>\n",
              "      <th>unsafe</th>\n",
              "      <td>0.967748</td>\n",
              "      <td>0.298666</td>\n",
              "      <td>0.702812</td>\n",
              "      <td>0.162925</td>\n",
              "      <td>0.677324</td>\n",
              "      <td>0.280144</td>\n",
              "      <td>1.000000</td>\n",
              "    </tr>\n",
              "  </tbody>\n",
              "</table>\n",
              "</div>"
            ],
            "text/plain": [
              "                  toxic  severe_toxic  ...  identity_hate    unsafe\n",
              "toxic          1.000000      0.308619  ...       0.266009  0.967748\n",
              "severe_toxic   0.308619      1.000000  ...       0.201600  0.298666\n",
              "obscene        0.676515      0.403014  ...       0.286867  0.702812\n",
              "threat         0.157058      0.123601  ...       0.115128  0.162925\n",
              "insult         0.647518      0.375807  ...       0.337736  0.677324\n",
              "identity_hate  0.266009      0.201600  ...       1.000000  0.280144\n",
              "unsafe         0.967748      0.298666  ...       0.280144  1.000000\n",
              "\n",
              "[7 rows x 7 columns]"
            ]
          },
          "metadata": {},
          "execution_count": 30
        }
      ]
    },
    {
      "cell_type": "markdown",
      "metadata": {
        "id": "8VxJFmpfqNnm"
      },
      "source": [
        "Noticings:\n",
        "- 90% Safe Comments\n",
        "- Most non-safe comments classified toxic specifically\n",
        "- Lots of missing spaces, punctuation errors, etc.\n",
        "- Most comments under 250 words\n",
        "- Unsafe comments appear to be typically shorter\n",
        "- Comments are at least one word\n",
        "- Comments are cut off at 5000 characters\n",
        "- Identity_hate, severe_toxic and threat are very rare\n",
        "- Severe toxicity assures toxicity\n",
        "- insults and obscenities are highly correlated"
      ]
    },
    {
      "cell_type": "markdown",
      "metadata": {
        "id": "qLdfIt9gqNno"
      },
      "source": [
        "## Preprocessing\n",
        "\n",
        "- strip\n",
        "- drop numbers, punctuation, and spaces\n",
        "- address other inconsistencies in strings\n",
        "- ngrams (in vectorizer)\n",
        "- try all lemmatizers and stemmers\n"
      ]
    },
    {
      "cell_type": "code",
      "metadata": {
        "id": "nT_A1zhxqNno"
      },
      "source": [
        "load_model = spacy.load('en_core_web_sm', disable = ['parser','ner'])\n",
        "en = spacy.load('en_core_web_sm')\n",
        "stopwords = en.Defaults.stop_words\n",
        "#spacy tools for later\n",
        "\n",
        "def preprocessor (text, checker = True):\n",
        "  text = text.lower()\n",
        "  # lowers\n",
        "  \n",
        "  \n",
        "  \n",
        "  replacement_dict = {r'_':\" \",\n",
        "                      r\"\\d+\": \"\",\n",
        "                      r\"[^\\w\\s]\":\"\",\n",
        "                      r'\"':\"\",\n",
        "                      r'\\n':\" \",\n",
        "                      r'\\s+':\" \",}\n",
        "\n",
        "  for key, value in replacement_dict.items():\n",
        "      text = re.sub(key, \n",
        "                        value,\n",
        "                        text)   \n",
        "  # #removes dashes and underscores\n",
        "  # #remove numbers\n",
        "  # #remove quotes\n",
        "  # #removes \\n character\n",
        "  # #removes punctuation and singular numbers\n",
        "  \n",
        "  \n",
        "  text=text.strip()\n",
        "  # #removes leading spaces\n",
        "  # #removes trailing spaces\n",
        "\n",
        " \n",
        "  comment_list = text.split(\" \")\n",
        "  new_comment_list = []\n",
        "\n",
        "  for word in comment_list:\n",
        "    if (word in stopwords) & (checker == True):\n",
        "      pass\n",
        "    elif (word[:3] != \"www\") & (word[:4] != \"http\"):\n",
        "      new_comment_list.append(word)\n",
        "  text = \" \".join(new_comment_list)\n",
        "  #removes websites\n",
        "  # text = TextBlob(text).correct()\n",
        "  return text\n",
        "  \n",
        "def tokenizer (text):\n",
        "  text = load_model(str(text))\n",
        "  #lemmatize\n",
        "  return [token.lemma_ for token in text]\n",
        "\n"
      ],
      "execution_count": 31,
      "outputs": []
    },
    {
      "cell_type": "code",
      "metadata": {
        "id": "3UiEn-d9xKrs"
      },
      "source": [
        "\n",
        "df = train[[\"comment_text\", \"unsafe\"]].copy()\n",
        "df.rename({\"comment_text\":\"comment\"}, axis =1, inplace = True)\n",
        "df2= df.copy()\n",
        "df.comment = df.comment.apply(lambda x: preprocessor(x))\n"
      ],
      "execution_count": 32,
      "outputs": []
    },
    {
      "cell_type": "code",
      "metadata": {
        "colab": {
          "base_uri": "https://localhost:8080/"
        },
        "id": "tQzlbphmUbri",
        "outputId": "db34687b-280d-469b-ff3c-77d1b30a27d2"
      },
      "source": [
        "a= time.perf_counter()\n",
        "print(tokenizer(preprocessor(\"cool!!!!!!! cool12 is is the boy who can  the restaraunt iffy buggin fuck, ooof \")))\n",
        "b = time.perf_counter()\n",
        "print(b-a)\n"
      ],
      "execution_count": 33,
      "outputs": [
        {
          "output_type": "stream",
          "name": "stdout",
          "text": [
            "['cool', 'cool', 'boy', 'restaraunt', 'iffy', 'buggin', 'fuck', 'ooof']\n",
            "0.014027140000507643\n"
          ]
        }
      ]
    },
    {
      "cell_type": "markdown",
      "metadata": {
        "id": "yTK6P60NrDW1"
      },
      "source": [
        "## Lemmatization, Stemming and Vectorization\n",
        "\n"
      ]
    },
    {
      "cell_type": "code",
      "metadata": {
        "id": "LDgWZf0oszQE"
      },
      "source": [
        "#project on to use spacy to identify key parts of speech in toxic and nontoxic comments\n",
        "\n",
        "# nlp = spacy.load(\"en\")\n",
        "# df[\"comment_spacy\"] = list(nlp.pipe(df.comment, n_process = -1))\n",
        "# safe_comments = df[df[\"unsafe\"]==0]\n",
        "# unsafe_comments = df[df[\"unsafe\"]==1]\n",
        "\n",
        "# safe_adj = [token.text.lower() for doc in safe_comments.comment_spacy for token in doc if token.pos_=='ADJ']\n",
        "# unsafe_adj = [token.text.lower() for doc in unsafe_comments.comment_spacy for token in doc if token.pos_=='ADJ']\n",
        "\n",
        "# safe_noun = [token.text.lower() for doc in safe_comments.comment_spacy for token in doc if token.pos_=='NOUN']\n",
        "# unsafe_noun = [token.text.lower() for doc in unsafe_comments.comment_spacy for token in doc if token.pos_=='NOUN']\n",
        "\n",
        "# safe_verbs = [token.text.lower() for doc in safe_comments.comment_spacy for token in doc if token.pos_=='VERB']\n",
        "# unsafe_verbs = [token.text.lower() for doc in unsafe_comments.comment_spacy for token in doc if token.pos_=='VERB']"
      ],
      "execution_count": 34,
      "outputs": []
    },
    {
      "cell_type": "code",
      "metadata": {
        "id": "XLQLUPPfqNnp"
      },
      "source": [
        "#if you're into stemming\n",
        "stemmerP = PorterStemmer()\n",
        "stemmerS = SnowballStemmer(\"english\")\n",
        "stemmerL = LancasterStemmer()\n",
        "# stemmerS.stem(df[\"comment\"][1][4])\n",
        "\n",
        "def stemmer(text):\n",
        "  text = text.split(\" \")\n",
        "  return \" \".join([stemmerS.stem(word) for word in text])\n",
        "    \n"
      ],
      "execution_count": 35,
      "outputs": []
    },
    {
      "cell_type": "code",
      "metadata": {
        "id": "i8uEBrbbqNnp"
      },
      "source": [
        "\n",
        "\n",
        "vecC =CountVectorizer(\n",
        "                      ngram_range=(1,3),\n",
        "                      #adds bigrams\n",
        "                      max_df = 0.8,\n",
        "                      #gets rid of super common words\n",
        "                      min_df = 4,\n",
        "                      #gets rid of super rare words\n",
        "                      max_features = 20000,\n",
        "                      #limits to the top 10000 words\n",
        "                      preprocessor = stemmer\n",
        "                      )\n",
        "\n",
        "vecT =TfidfVectorizer(\n",
        "                      ngram_range=(1,3),\n",
        "                      # adds bigrams\n",
        "                      max_df = 0.8,\n",
        "                      #gets rid of super common words\n",
        "                      min_df = 1,\n",
        "                      # gets rid of super rare words\n",
        "                      max_features = 20000,\n",
        "                      #limits to the top 10000 words\n",
        "                      preprocessor = stemmer\n",
        "                      )\n",
        "# I already removed stop words and preprocessed the data. This could have been done in the vectorizor, but I want to break up the computation.\n"
      ],
      "execution_count": 36,
      "outputs": []
    },
    {
      "cell_type": "code",
      "metadata": {
        "id": "pJZGoYriR1bk"
      },
      "source": [
        "cv = vecC.fit_transform(df[\"comment\"])\n"
      ],
      "execution_count": 37,
      "outputs": []
    },
    {
      "cell_type": "code",
      "metadata": {
        "id": "i4hK4RPAlkGo"
      },
      "source": [
        "tfidf = vecT.fit_transform(df[\"comment\"])"
      ],
      "execution_count": 38,
      "outputs": []
    },
    {
      "cell_type": "code",
      "metadata": {
        "colab": {
          "base_uri": "https://localhost:8080/"
        },
        "id": "glK_qADPoDk1",
        "outputId": "f9c3c417-3b90-4b96-bf24-1f0fb63e1d24"
      },
      "source": [
        "tfidf.shape\n",
        "# vecT.get_feature_names()\n",
        "# len(vecC.get_feature_names())"
      ],
      "execution_count": 39,
      "outputs": [
        {
          "output_type": "execute_result",
          "data": {
            "text/plain": [
              "(159571, 20000)"
            ]
          },
          "metadata": {},
          "execution_count": 39
        }
      ]
    },
    {
      "cell_type": "markdown",
      "metadata": {
        "id": "-Ms-QmGQ9U2j"
      },
      "source": [
        "## Dimension Reduction\n"
      ]
    },
    {
      "cell_type": "code",
      "metadata": {
        "id": "TLwa_7d7rum9"
      },
      "source": [
        "\n"
      ],
      "execution_count": null,
      "outputs": []
    },
    {
      "cell_type": "code",
      "metadata": {
        "id": "8LIUDjqYzYPc"
      },
      "source": [
        "#k means\n",
        "\n",
        "from sklearn.cluster import KMeans\n",
        "\n",
        "feature_names = vecT.get_feature_names()\n",
        "\n",
        "num_clusters = 10\n",
        "km = KMeans(n_clusters=num_clusters,n_init=1) # n_init, number of times the K-mean algorithm will run\n",
        "cluster_labels = km.fit_predict(tfidf)\n",
        "\n"
      ],
      "execution_count": 65,
      "outputs": []
    },
    {
      "cell_type": "code",
      "metadata": {
        "colab": {
          "base_uri": "https://localhost:8080/",
          "height": 298
        },
        "id": "YdL-6aEEEpPx",
        "outputId": "b4a6e6db-9228-444e-c7e9-d1b1e7ac5282"
      },
      "source": [
        "\n",
        "sns.barplot(x=cluster_labels, y=df.unsafe)\n",
        "plt.title('Percentage \"unsafe\" vs. cluster label')"
      ],
      "execution_count": 66,
      "outputs": [
        {
          "output_type": "execute_result",
          "data": {
            "text/plain": [
              "Text(0.5, 1.0, 'Percentage \"unsafe\" vs. cluster label')"
            ]
          },
          "metadata": {},
          "execution_count": 66
        },
        {
          "output_type": "display_data",
          "data": {
            "image/png": "[encoded data removed]",
            "text/plain": [
              "<Figure size 432x288 with 1 Axes>"
            ]
          },
          "metadata": {
            "needs_background": "light"
          }
        }
      ]
    },
    {
      "cell_type": "code",
      "metadata": {
        "id": "9YVuvibrqNnq"
      },
      "source": [
        "#pca  \n",
        "\n",
        "\n",
        "# pca_model = PCA(10)\n",
        "# #since 10% of comments are toxic\n",
        "# doc_topic = pca_model.fit_transform(tfidf.toarray())\n",
        "# #fit nmf to the tfidf output\n",
        "# topic_word = pca_model.components_\n",
        "# #gets the weights in each topic for each word\n",
        "# words = vecT.get_feature_names()\n",
        "# #get the word names\n",
        "# indexes = pca_model.components_.argsort(axis=1)[:,-1:-10:-1]\n",
        "# #get the indexes of the top 20 for each category\n",
        "# topic_words = [[words[word] for e in topics] for topics in indexes]\n",
        "# #get the topic words\n",
        "# topic_words[-1]\n",
        "# #return those last topic's top 20 words, which happens to be our toxic words\n"
      ],
      "execution_count": null,
      "outputs": []
    },
    {
      "cell_type": "code",
      "metadata": {
        "id": "XgyQQ44q9R9c"
      },
      "source": [
        "#lsa\n",
        "\n",
        "# lsa = SVD(2)\n",
        "# doc_topic = lsa.fit_transform(tfidf)\n",
        "# topic_word = pd.DataFrame(lsa.components_.round(3),\n",
        "#              index = [\"component_1\",\"component_2\"],\n",
        "#              columns = vecT.get_feature_names())\n",
        "# topic_word\n",
        "\n",
        "# def display_topics(model, feature_names, no_top_words, topic_names=None):\n",
        "#     for ix, topic in enumerate(model.components_):\n",
        "#         if not topic_names or not topic_names[ix]:\n",
        "#             print(\"\\nTopic \", ix)\n",
        "#         else:\n",
        "#             print(\"\\nTopic: '\",topic_names[ix],\"'\")\n",
        "#         print(\", \".join([feature_names[i]\n",
        "#                         for i in topic.argsort()[:-no_top_words - 1:-1]]))\n",
        "\n",
        "# display_topics(lsa, vecT.get_feature_names(), 5)"
      ],
      "execution_count": null,
      "outputs": []
    },
    {
      "cell_type": "code",
      "metadata": {
        "id": "Jh9hHo7L9fwC"
      },
      "source": [
        "#NMF\n",
        "\n",
        "nmf_model = NMF(6)\n",
        "#since 10% of comments are toxic\n",
        "doc_topic = nmf_model.fit_transform(tfidf)\n",
        "#fit nmf to the tfidf output\n",
        "\n",
        "\n"
      ],
      "execution_count": null,
      "outputs": []
    },
    {
      "cell_type": "code",
      "metadata": {
        "id": "0M2cucFKqLSw"
      },
      "source": [
        "# see how NMF does at identifying toxic comments naturally; not bad!\n",
        "# activate this after classification below\n",
        "\n",
        "# a = pd.Series(doc_topic.argsort()[:,9])==9\n",
        "# confusion_matrix(df[\"unsafe\"],a)\n",
        "# confusion_matrix(df[\"unsafe\"],a)\n",
        "# score_this_model(loc_y =df[\"unsafe\"], results = a )\n"
      ],
      "execution_count": null,
      "outputs": []
    },
    {
      "cell_type": "code",
      "metadata": {
        "colab": {
          "base_uri": "https://localhost:8080/"
        },
        "id": "Z-6uT6Swopl_",
        "outputId": "dbee5548-cd8e-4a67-ccb9-9e144588e484"
      },
      "source": [
        "topic_word = nmf_model.components_\n",
        "#gets the weights in each topic for each word\n",
        "words = vecT.get_feature_names()\n",
        "#get the word names\n",
        "indexes = nmf_model.components_.argsort(axis=1)[:,-1:-20:-1]\n",
        "#get the indexes of the top n for each category\n",
        "topic_words = [[words[word] for word in topic] for topic in indexes]\n",
        "#get the topic words\n",
        "topic_words\n",
        "#return the top 20 words. Last one is the toxic one."
      ],
      "execution_count": null,
      "outputs": [
        {
          "data": {
            "text/plain": [
              "[['articl',\n",
              "  'dont',\n",
              "  'sourc',\n",
              "  'think',\n",
              "  'like',\n",
              "  'know',\n",
              "  'im',\n",
              "  'peopl',\n",
              "  'time',\n",
              "  'need',\n",
              "  'wikipedia',\n",
              "  'good',\n",
              "  'refer',\n",
              "  'person',\n",
              "  'chang',\n",
              "  'tri',\n",
              "  'way',\n",
              "  'look',\n",
              "  'section'],\n",
              " ['edit',\n",
              "  'block',\n",
              "  'vandal',\n",
              "  'block edit',\n",
              "  'continu',\n",
              "  'vandal page',\n",
              "  'continu block',\n",
              "  'continu block edit',\n",
              "  'vandal page edit',\n",
              "  'page edit',\n",
              "  'page',\n",
              "  'stop',\n",
              "  'wikipedia',\n",
              "  'continu vandal',\n",
              "  'stop continu',\n",
              "  'revert',\n",
              "  'edit wikipedia',\n",
              "  'stop continu vandal',\n",
              "  'ip'],\n",
              " ['talk',\n",
              "  'page',\n",
              "  'talk page',\n",
              "  'user',\n",
              "  'help',\n",
              "  'welcom',\n",
              "  'question',\n",
              "  'discuss',\n",
              "  'ask',\n",
              "  'comment',\n",
              "  'edit',\n",
              "  'messag',\n",
              "  'wikipedia',\n",
              "  'hope',\n",
              "  'contrib',\n",
              "  'talk contrib',\n",
              "  'user page',\n",
              "  'post',\n",
              "  'place'],\n",
              " ['delet',\n",
              "  'articl',\n",
              "  'speedi',\n",
              "  'tag',\n",
              "  'speedi delet',\n",
              "  'imag',\n",
              "  'notabl',\n",
              "  'delet articl',\n",
              "  'subject',\n",
              "  'wikipedia',\n",
              "  'criteria',\n",
              "  'guidelin',\n",
              "  'page',\n",
              "  'note',\n",
              "  'add',\n",
              "  'copyright',\n",
              "  'remov',\n",
              "  'speedi delet articl',\n",
              "  'articl delet'],\n",
              " ['thank',\n",
              "  'test',\n",
              "  'sandbox',\n",
              "  'use',\n",
              "  'revert',\n",
              "  'use sandbox',\n",
              "  'welcom',\n",
              "  'experi',\n",
              "  'wikipedia',\n",
              "  'learn contribut',\n",
              "  'welcom page',\n",
              "  'look',\n",
              "  'test want',\n",
              "  'contribut',\n",
              "  'learn contribut encyclopedia',\n",
              "  'contribut encyclopedia',\n",
              "  'look welcom',\n",
              "  'look welcom page',\n",
              "  'sandbox test'],\n",
              " ['fuck',\n",
              "  'shit',\n",
              "  'bitch',\n",
              "  'fuck fuck',\n",
              "  'asshol',\n",
              "  'ass',\n",
              "  'suck',\n",
              "  'dont',\n",
              "  'cunt',\n",
              "  'your',\n",
              "  'faggot',\n",
              "  'dick',\n",
              "  'stupid',\n",
              "  'hey',\n",
              "  'life',\n",
              "  'stop',\n",
              "  'piec shit',\n",
              "  'idiot',\n",
              "  'dont fuck']]"
            ]
          },
          "execution_count": 133,
          "metadata": {},
          "output_type": "execute_result"
        }
      ]
    },
    {
      "cell_type": "code",
      "metadata": {
        "id": "t2Y1kVtLJHaW"
      },
      "source": [
        "nmf_cluster_labels = pd.Series(doc_topic.argsort()[:,-1])"
      ],
      "execution_count": null,
      "outputs": []
    },
    {
      "cell_type": "code",
      "metadata": {
        "colab": {
          "base_uri": "https://localhost:8080/",
          "height": 298
        },
        "id": "VameapEiJcIS",
        "outputId": "272cd741-dadc-49bb-e13c-7f90995d5d13"
      },
      "source": [
        "\n",
        "sns.barplot(x=nmf_cluster_labels, y=df.unsafe)\n",
        "plt.title('Percentage \"unsafe\" vs. cluster label')"
      ],
      "execution_count": null,
      "outputs": [
        {
          "data": {
            "text/plain": [
              "Text(0.5, 1.0, 'Percentage \"unsafe\" vs. cluster label')"
            ]
          },
          "execution_count": 135,
          "metadata": {},
          "output_type": "execute_result"
        },
        {
          "data": {
            "image/png": "[encoded data removed]",
            "text/plain": [
              "<Figure size 432x288 with 1 Axes>"
            ]
          },
          "metadata": {},
          "output_type": "display_data"
        }
      ]
    },
    {
      "cell_type": "markdown",
      "metadata": {
        "id": "qgI6SUXNBGs-"
      },
      "source": [
        "## LDA"
      ]
    },
    {
      "cell_type": "code",
      "metadata": {
        "id": "kPRbkGrgORTy"
      },
      "source": [
        "clean_texts = df.comment.apply(lambda x: stemmer(x))"
      ],
      "execution_count": 40,
      "outputs": []
    },
    {
      "cell_type": "code",
      "metadata": {
        "id": "58leoUTnPUnD"
      },
      "source": [
        "def gen_words(texts):\n",
        "    new_texts = []\n",
        "    for text in texts:\n",
        "        new_text = gensim.utils.simple_preprocess(text, deacc=True)\n",
        "        new_texts.append(new_text)\n",
        "    return (new_texts)\n",
        "\n",
        "data = gen_words(clean_texts)"
      ],
      "execution_count": 43,
      "outputs": []
    },
    {
      "cell_type": "code",
      "metadata": {
        "id": "dCvMLmLMPbER"
      },
      "source": [
        "id2word = corpora.Dictionary(data_words)\n",
        "\n",
        "corpus = []\n",
        "for text in data:\n",
        "    new = id2word.doc2bow(text)\n",
        "    corpus.append(new)\n"
      ],
      "execution_count": 44,
      "outputs": []
    },
    {
      "cell_type": "code",
      "metadata": {
        "id": "OwPVwT3GZcNP"
      },
      "source": [
        ""
      ],
      "execution_count": 48,
      "outputs": []
    },
    {
      "cell_type": "code",
      "metadata": {
        "id": "f3wUAeNTPc7g"
      },
      "source": [
        "lda_model = gensim.models.ldamodel.LdaModel(corpus=corpus,\n",
        "                                           id2word=id2word,\n",
        "                                           num_topics=4,\n",
        "                                           random_state=100,\n",
        "                                           passes=3,\n",
        "                                           alpha=\"auto\")"
      ],
      "execution_count": 62,
      "outputs": []
    },
    {
      "cell_type": "code",
      "metadata": {
        "id": "16zK4yYHPiaT",
        "colab": {
          "base_uri": "https://localhost:8080/",
          "height": 896
        },
        "outputId": "ee311080-d262-46d0-e47e-78435621c6a1"
      },
      "source": [
        "pyLDAvis.enable_notebook()\n",
        "vis = pyLDAvis.gensim_models.prepare(lda_model, corpus, id2word, mds=\"mmds\", R=30)\n",
        "vis"
      ],
      "execution_count": 63,
      "outputs": [
        {
          "output_type": "stream",
          "name": "stderr",
          "text": [
            "/usr/local/lib/python3.7/dist-packages/pyLDAvis/_prepare.py:247: FutureWarning: In a future version of pandas all arguments of DataFrame.drop except for the argument 'labels' will be keyword-only\n",
            "  by='saliency', ascending=False).head(R).drop('saliency', 1)\n"
          ]
        },
        {
          "output_type": "execute_result",
          "data": {
            "text/html": [
              "\n",
              "<link rel=\"stylesheet\" type=\"text/css\" href=\"https://cdn.jsdelivr.net/gh/bmabey/pyLDAvis@3.3.1/pyLDAvis/js/ldavis.v1.0.0.css\">\n",
              "\n",
              "\n",
              "<div id=\"ldavis_el13921400746019182888162289643\"></div>\n",
              "<script type=\"text/javascript\">\n",
              "\n",
              "var ldavis_el13921400746019182888162289643_data = {\"mdsDat\": {\"x\": [-0.20215349097764743, -0.2214600244688912, 0.13270822739376922, 0.2909052880527694], \"y\": [-0.16206528419732694, 0.22131202591514698, -0.29287639171844176, 0.23362965000062172], \"topics\": [1, 2, 3, 4], \"cluster\": [1, 1, 1, 1], \"Freq\": [64.76206897829283, 18.786042280632632, 9.467062351817654, 6.984826389256882]}, \"tinfo\": {\"Term\": [\"page\", \"articl\", \"delet\", \"wikipedia\", \"talk\", \"fuck\", \"thank\", \"use\", \"imag\", \"edit\", \"link\", \"lol\", \"tag\", \"remov\", \"help\", \"question\", \"notabl\", \"aid\", \"welcom\", \"inform\", \"contribut\", \"ask\", \"ad\", \"copyright\", \"add\", \"content\", \"place\", \"polici\", \"creat\", \"faggot\", \"block\", \"good\", \"editor\", \"tri\", \"post\", \"ive\", \"attack\", \"best\", \"hope\", \"opinion\", \"ip\", \"account\", \"didnt\", \"sorri\", \"bad\", \"ill\", \"warn\", \"id\", \"there\", \"action\", \"get\", \"answer\", \"respons\", \"accus\", \"repli\", \"repeat\", \"ok\", \"bit\", \"fix\", \"info\", \"user\", \"comment\", \"thing\", \"im\", \"vandal\", \"stop\", \"let\", \"that\", \"utc\", \"better\", \"wrong\", \"wiki\", \"thought\", \"way\", \"make\", \"point\", \"sure\", \"know\", \"dont\", \"think\", \"chang\", \"go\", \"edit\", \"section\", \"need\", \"work\", \"sourc\", \"time\", \"like\", \"discuss\", \"articl\", \"look\", \"person\", \"talk\", \"read\", \"reason\", \"page\", \"want\", \"thank\", \"wikipedia\", \"peopl\", \"remov\", \"nation\", \"countri\", \"unit\", \"citi\", \"govern\", \"german\", \"british\", \"christian\", \"region\", \"greek\", \"militari\", \"church\", \"popul\", \"map\", \"american\", \"presid\", \"south\", \"ethnic\", \"muslim\", \"jewish\", \"religion\", \"centuri\", \"modern\", \"india\", \"islam\", \"west\", \"america\", \"israel\", \"arab\", \"germani\", \"cultur\", \"born\", \"bush\", \"king\", \"histor\", \"univers\", \"languag\", \"english\", \"th\", \"state\", \"term\", \"world\", \"group\", \"forc\", \"law\", \"year\", \"school\", \"live\", \"peopl\", \"book\", \"differ\", \"includ\", \"name\", \"histori\", \"refer\", \"call\", \"claim\", \"war\", \"origin\", \"delet\", \"imag\", \"tag\", \"notabl\", \"copyright\", \"speedi\", \"upload\", \"criteria\", \"test\", \"file\", \"sandbox\", \"web\", \"contest\", \"rational\", \"licens\", \"specifi\", \"nomin\", \"advertis\", \"guidelin\", \"speedili\", \"hesit\", \"nonfre\", \"spam\", \"db\", \"criterion\", \"delay\", \"dyk\", \"domain\", \"mongo\", \"wikipediaimag\", \"extern\", \"tild\", \"welcom\", \"tutori\", \"helpm\", \"media\", \"pillar\", \"wikipedia\", \"fair\", \"page\", \"use\", \"link\", \"question\", \"articl\", \"contribut\", \"content\", \"thank\", \"subject\", \"talk\", \"help\", \"place\", \"add\", \"remov\", \"polici\", \"creat\", \"edit\", \"ask\", \"fuck\", \"faggot\", \"fat\", \"suck\", \"lol\", \"hate\", \"wikipediahi\", \"nigger\", \"shit\", \"dog\", \"cock\", \"gay\", \"ass\", \"fag\", \"nippl\", \"dick\", \"cocksuck\", \"moron\", \"eat\", \"cunt\", \"youi\", \"loser\", \"bitch\", \"bastard\", \"boy\", \"fucker\", \"chicken\", \"vagina\", \"barnstar\", \"teabag\", \"aid\", \"huge\", \"movi\", \"jew\", \"love\", \"stupid\", \"game\", \"video\", \"guy\", \"mother\", \"die\", \"hi\"], \"Freq\": [56506.0, 74123.0, 25986.0, 37712.0, 33905.0, 10857.0, 24214.0, 19239.0, 11040.0, 40544.0, 14347.0, 7450.0, 7972.0, 15587.0, 13836.0, 11123.0, 6492.0, 5821.0, 6379.0, 13017.0, 8026.0, 9625.0, 11752.0, 5405.0, 8337.0, 7534.0, 9323.0, 7787.0, 7904.0, 4235.0, 15423.18904880475, 12984.994025328262, 11516.311323370663, 11717.254301731295, 8065.448735164522, 8850.197230774524, 6725.040451278922, 5898.36017281435, 7085.009435265074, 5588.679130058885, 5089.747517643627, 5040.901215114323, 5671.103585623622, 4591.134142185502, 4527.843277293161, 5947.816218798411, 4138.401433140834, 3946.6042453791256, 3523.870336352602, 3406.302912203849, 4843.535061213999, 3409.5810057180174, 3230.044429532938, 3081.733364724033, 2772.8098053954777, 2676.2879222188994, 2691.888938178148, 3790.5485717609895, 2619.3852759268957, 2672.6843672990817, 14551.63880427412, 12924.638092645575, 11316.125467214515, 19288.05660611787, 9776.299286050025, 8131.988795776968, 7441.410986573988, 7438.1693765248265, 6929.9178643014075, 6048.752962463162, 5614.18612921216, 5197.52762016523, 4715.632702240577, 12458.26815335954, 7777.1361662299, 12107.6757811024, 7042.031913487802, 20545.60335530351, 24949.63872981973, 21673.27185884658, 11929.86259711083, 7237.870818971828, 36589.22804266868, 11828.454458180406, 15370.87248243075, 13515.252652621346, 21872.062673994275, 17727.334430065486, 26655.146078582748, 14219.665280732606, 57739.283666635645, 13425.214350765518, 13031.022431713873, 27515.66748000874, 10321.387538812054, 9891.129005433613, 37330.470909314885, 13359.41551857082, 17961.500479816987, 23057.954453018086, 15102.083985610818, 11634.576990468495, 4172.699066995851, 3602.2222051817075, 2617.8428569314083, 2446.7047441271934, 2371.7981583561955, 2098.2042208671865, 2117.483176540626, 1909.4192465988338, 1596.1337545136873, 1558.2258098065295, 1532.0369637483677, 1495.8664197913663, 1492.631465725895, 1453.228168138604, 3287.6226341623765, 1407.5822359398858, 1378.5516850180702, 1348.5207743494514, 1330.2007892848671, 1305.1840417003352, 1285.0056319505825, 1269.433047384708, 1271.2441103221488, 1237.1595789177145, 1163.7871155991047, 1082.3841116923518, 1079.9261208113933, 1042.9468645336808, 1036.054996760926, 1034.4949929994925, 1753.024887775261, 1292.629930291071, 1048.759995154101, 1237.1317067387422, 2083.2682955473133, 2141.1711756230934, 3139.883739518644, 3280.436012857857, 2177.6367874597427, 5982.42413984597, 3271.038268543278, 3382.498064427695, 2666.8865753990685, 1862.4866885143927, 1745.5738999010146, 3307.094180305558, 2107.4395521088063, 2261.7680166443333, 3879.768333822903, 2444.608882007621, 2545.952334316584, 2607.2120306538686, 1964.060033908564, 2182.9469614671266, 2409.946788759217, 2048.1053413384275, 2079.9743488624376, 2022.7806376110386, 1971.6062691914042, 25985.541463796584, 11039.438571095663, 7971.271773480732, 6491.986557173514, 5404.776591548547, 4646.038050301872, 3244.7388598160624, 3164.781966584425, 2925.665754619589, 2319.969894089521, 1933.90841866223, 1981.5985097514344, 1533.7669954872938, 1403.9514444854078, 1394.1081963356708, 1290.9204770888434, 2623.6704024599444, 1159.4871081758388, 4016.9868512350918, 819.96026031105, 805.1710453076396, 668.728185977182, 1225.3113549759976, 598.3428628107883, 601.7920919958586, 608.7128865816925, 550.8386956351892, 540.4922753829961, 651.3163401822208, 477.30660627069847, 1482.2009637259846, 1379.0077528327456, 5836.020376609503, 1066.748830355713, 735.2708351756949, 2546.14208424522, 1151.9406355291378, 14654.330029119164, 3125.7327699065872, 19175.661660536396, 8579.239274670645, 5737.011483456092, 4836.647183165204, 16265.889997934784, 3799.962054263639, 3355.1484109198013, 6252.429957409907, 3017.7106064716745, 6389.308399348525, 4167.70170752472, 3451.4744235840117, 3246.2163239179326, 3952.6488340493447, 3135.3891964697477, 3107.355186407584, 3954.7508673219413, 3138.3327189463257, 10857.222774656073, 4234.355679207683, 4179.045201181254, 4130.934376279197, 7448.882051714471, 3846.646878301131, 3576.5514238303513, 2675.3081959202577, 2358.2046166666432, 2368.182837219751, 1757.577762355351, 1713.2978697640397, 1575.9295790075453, 1528.3002893469234, 1439.2053611160516, 1449.1034816322344, 1310.6800209340706, 1268.5905682630228, 1217.0908417014598, 1175.196184840054, 1860.455818729908, 1143.4358968527652, 1130.8964230761592, 1090.0680784767342, 1043.7291162591819, 997.4918374542625, 1143.9870910757284, 968.2716089063829, 939.6425466816052, 897.9830473215993, 5525.311767313928, 3187.9808462619426, 1145.3765306267437, 3724.1106521640827, 2479.944673370522, 2592.5754546689454, 1881.7555717394155, 1462.7594470713852, 1669.8395479794747, 1266.8914812930004, 1249.469879098496, 1266.5984304769747], \"Total\": [56506.0, 74123.0, 25986.0, 37712.0, 33905.0, 10857.0, 24214.0, 19239.0, 11040.0, 40544.0, 14347.0, 7450.0, 7972.0, 15587.0, 13836.0, 11123.0, 6492.0, 5821.0, 6379.0, 13017.0, 8026.0, 9625.0, 11752.0, 5405.0, 8337.0, 7534.0, 9323.0, 7787.0, 7904.0, 4235.0, 15423.94751249408, 12985.78955950433, 11517.073421439904, 11718.07731000141, 8066.220549928381, 8851.071120788127, 6725.81480242115, 5899.138761278089, 7085.994724169157, 5589.457245236902, 5090.507554872977, 5041.6704883592865, 5672.020407478217, 4591.903524392725, 4528.618651597743, 5948.867751402075, 4139.170881722981, 3947.3689148600447, 3524.6511452673367, 3407.0719260152114, 4844.638358774942, 3410.3905410488446, 3230.8168196495335, 3082.48725348973, 2773.5744047904727, 2677.052706721032, 2692.664645871022, 3791.645202158421, 2620.148502959023, 2673.4676194958174, 14558.83327851892, 12938.038799822942, 11324.161354369982, 19426.921925695595, 9786.2035646215, 8139.000135188774, 7446.122617749698, 7446.049834321975, 6932.492462600667, 6050.744207637927, 5624.672792982926, 5205.585936707939, 4718.694808031484, 12636.989234803028, 7822.385799564741, 12312.420518305657, 7082.399047114395, 21137.083302338913, 25895.8043522909, 22435.5281925133, 12204.920051280862, 7316.43494531834, 40544.48626597457, 12327.614174108694, 16336.752150325005, 14323.436407811749, 24058.938109754054, 19183.274256741137, 29917.250196510828, 15234.555960582835, 74123.71968948469, 14423.598219592526, 14052.624951885138, 33905.484482826, 10861.611694130683, 10325.091808471401, 56506.643948334015, 15811.436633652209, 24214.439417449907, 37712.800750450726, 19398.46747813173, 15587.74319755236, 4173.458095914106, 3602.9760740694014, 2618.6100869801885, 2447.464040972611, 2372.56093464572, 2098.9568189634165, 2118.243448377914, 1910.1713772557475, 1596.8912487309099, 1558.9724367508313, 1532.795411415988, 1496.6199791441984, 1493.3847220190196, 1453.9913489552594, 3289.3498682707313, 1408.3404231634504, 1379.3029809974048, 1349.2675701958665, 1330.9517169236535, 1305.9374085760735, 1285.7592468439389, 1270.1815086767522, 1271.9953570006548, 1237.9085633353952, 1164.5360753040845, 1083.1459826959021, 1080.6908041389006, 1043.6944208057848, 1036.8005812454132, 1035.2431084006005, 1756.3758065430509, 1293.6301832422014, 1049.5434142920687, 1244.9937601103543, 2195.793082799892, 2412.212774056743, 4048.084320541238, 4295.54496790886, 2568.3573422441887, 10195.11632109887, 5241.944808571283, 5522.586837595129, 4261.951823776355, 2494.9333613972135, 2247.0876477911365, 7993.659113303971, 3708.4524315551325, 4574.717373888278, 19398.46747813173, 5939.6965079900065, 7324.28051460639, 8728.204510832886, 4079.0055906409575, 7089.439113835637, 12996.972624041517, 5898.178749474083, 7776.431811180671, 5951.989995195212, 6571.532763674263, 25986.32349456288, 11040.210731529045, 7972.040143713733, 6492.785977143844, 5405.537070639344, 4646.792368975411, 3245.498194962126, 3165.5494898551524, 2926.4812656385675, 2320.78541178351, 1934.6708189786857, 1982.4404915474697, 1534.6084474145, 1404.7245129268824, 1394.8909881755158, 1291.7012480882856, 2625.3519383440926, 1160.2769957500461, 4019.9224259374278, 820.7126771332887, 805.9685045854932, 669.48081384927, 1226.7876455774144, 599.1074564737045, 602.5679934048618, 609.5397994268191, 551.6391312604234, 541.3232560975903, 652.3394417797653, 478.05871678382255, 1490.658234304706, 1393.7557412453739, 6379.424431741463, 1121.9493226938496, 754.862586160313, 3179.4984841174773, 1303.8276239266409, 37712.800750450726, 4987.913478659378, 56506.643948334015, 19239.752952108025, 14347.494631536121, 11123.775560052502, 74123.71968948469, 8026.677953606546, 7534.250133558025, 24214.439417449907, 6613.0393879366275, 33905.484482826, 13836.58163176696, 9323.131728514956, 8337.8596676094, 15587.74319755236, 7787.7043986176195, 7904.706247819357, 40544.48626597457, 9625.806694950075, 10857.990988758509, 4235.122099606071, 4179.81566545977, 4131.69969947889, 7450.281854285161, 3847.435544074349, 3577.337297606036, 2676.074730625564, 2358.9791715120105, 2368.968581925862, 1758.3438321090155, 1714.0730012669126, 1576.6996721815256, 1529.06966952, 1439.9694701977285, 1449.8771185652813, 1311.4447733674597, 1269.3602955141066, 1217.8687987683295, 1175.9639971207762, 1861.6715907526902, 1144.207928121579, 1131.663320945594, 1090.8456150155023, 1044.5233268278357, 998.2700801056081, 1144.8973160466153, 969.0533771840352, 940.4368662330253, 898.7626864054548, 5821.346475077616, 3765.531932386919, 1189.9281780590466, 5239.424596417122, 3350.281996637273, 3857.289314961551, 3144.3117580069656, 2021.5876248491904, 4218.358004641928, 1639.171879713157, 1612.5994672460938, 6074.280960717706], \"Category\": [\"Default\", \"Default\", \"Default\", \"Default\", \"Default\", \"Default\", \"Default\", \"Default\", \"Default\", \"Default\", \"Default\", \"Default\", \"Default\", \"Default\", \"Default\", \"Default\", \"Default\", \"Default\", \"Default\", \"Default\", \"Default\", \"Default\", \"Default\", \"Default\", \"Default\", \"Default\", \"Default\", \"Default\", \"Default\", \"Default\", \"Topic1\", \"Topic1\", \"Topic1\", \"Topic1\", \"Topic1\", \"Topic1\", \"Topic1\", \"Topic1\", \"Topic1\", \"Topic1\", \"Topic1\", \"Topic1\", \"Topic1\", \"Topic1\", \"Topic1\", \"Topic1\", \"Topic1\", \"Topic1\", \"Topic1\", \"Topic1\", \"Topic1\", \"Topic1\", \"Topic1\", \"Topic1\", \"Topic1\", \"Topic1\", \"Topic1\", \"Topic1\", \"Topic1\", \"Topic1\", \"Topic1\", \"Topic1\", \"Topic1\", \"Topic1\", \"Topic1\", \"Topic1\", \"Topic1\", \"Topic1\", \"Topic1\", \"Topic1\", \"Topic1\", \"Topic1\", \"Topic1\", \"Topic1\", \"Topic1\", \"Topic1\", \"Topic1\", \"Topic1\", \"Topic1\", \"Topic1\", \"Topic1\", \"Topic1\", \"Topic1\", \"Topic1\", \"Topic1\", \"Topic1\", \"Topic1\", \"Topic1\", \"Topic1\", \"Topic1\", \"Topic1\", \"Topic1\", \"Topic1\", \"Topic1\", \"Topic1\", \"Topic1\", \"Topic1\", \"Topic1\", \"Topic1\", \"Topic1\", \"Topic1\", \"Topic1\", \"Topic2\", \"Topic2\", \"Topic2\", \"Topic2\", \"Topic2\", \"Topic2\", \"Topic2\", \"Topic2\", \"Topic2\", \"Topic2\", \"Topic2\", \"Topic2\", \"Topic2\", \"Topic2\", \"Topic2\", \"Topic2\", \"Topic2\", \"Topic2\", \"Topic2\", \"Topic2\", \"Topic2\", \"Topic2\", \"Topic2\", \"Topic2\", \"Topic2\", \"Topic2\", \"Topic2\", \"Topic2\", \"Topic2\", \"Topic2\", \"Topic2\", \"Topic2\", \"Topic2\", \"Topic2\", \"Topic2\", \"Topic2\", \"Topic2\", \"Topic2\", \"Topic2\", \"Topic2\", \"Topic2\", \"Topic2\", \"Topic2\", \"Topic2\", \"Topic2\", \"Topic2\", \"Topic2\", \"Topic2\", \"Topic2\", \"Topic2\", \"Topic2\", \"Topic2\", \"Topic2\", \"Topic2\", \"Topic2\", \"Topic2\", \"Topic2\", \"Topic2\", \"Topic2\", \"Topic3\", \"Topic3\", \"Topic3\", \"Topic3\", \"Topic3\", \"Topic3\", \"Topic3\", \"Topic3\", \"Topic3\", \"Topic3\", \"Topic3\", \"Topic3\", \"Topic3\", \"Topic3\", \"Topic3\", \"Topic3\", \"Topic3\", \"Topic3\", \"Topic3\", \"Topic3\", \"Topic3\", \"Topic3\", \"Topic3\", \"Topic3\", \"Topic3\", \"Topic3\", \"Topic3\", \"Topic3\", \"Topic3\", \"Topic3\", \"Topic3\", \"Topic3\", \"Topic3\", \"Topic3\", \"Topic3\", \"Topic3\", \"Topic3\", \"Topic3\", \"Topic3\", \"Topic3\", \"Topic3\", \"Topic3\", \"Topic3\", \"Topic3\", \"Topic3\", \"Topic3\", \"Topic3\", \"Topic3\", \"Topic3\", \"Topic3\", \"Topic3\", \"Topic3\", \"Topic3\", \"Topic3\", \"Topic3\", \"Topic3\", \"Topic3\", \"Topic4\", \"Topic4\", \"Topic4\", \"Topic4\", \"Topic4\", \"Topic4\", \"Topic4\", \"Topic4\", \"Topic4\", \"Topic4\", \"Topic4\", \"Topic4\", \"Topic4\", \"Topic4\", \"Topic4\", \"Topic4\", \"Topic4\", \"Topic4\", \"Topic4\", \"Topic4\", \"Topic4\", \"Topic4\", \"Topic4\", \"Topic4\", \"Topic4\", \"Topic4\", \"Topic4\", \"Topic4\", \"Topic4\", \"Topic4\", \"Topic4\", \"Topic4\", \"Topic4\", \"Topic4\", \"Topic4\", \"Topic4\", \"Topic4\", \"Topic4\", \"Topic4\", \"Topic4\", \"Topic4\", \"Topic4\"], \"logprob\": [30.0, 29.0, 28.0, 27.0, 26.0, 25.0, 24.0, 23.0, 22.0, 21.0, 20.0, 19.0, 18.0, 17.0, 16.0, 15.0, 14.0, 13.0, 12.0, 11.0, 10.0, 9.0, 8.0, 7.0, 6.0, 5.0, 4.0, 3.0, 2.0, 1.0, -5.3042, -5.4763, -5.5963, -5.579, -5.9525, -5.8596, -6.1342, -6.2654, -6.0821, -6.3193, -6.4129, -6.4225, -6.3047, -6.516, -6.5298, -6.2571, -6.6198, -6.6672, -6.7805, -6.8145, -6.4624, -6.8135, -6.8676, -6.9146, -7.0202, -7.0557, -7.0498, -6.7076, -7.0771, -7.057, -5.3624, -5.4809, -5.6139, -5.0806, -5.7601, -5.9443, -6.033, -6.0335, -6.1042, -6.2402, -6.3148, -6.3919, -6.4892, -5.5177, -5.9889, -5.5462, -6.0882, -5.0174, -4.8232, -4.964, -5.561, -6.0608, -4.4403, -5.5696, -5.3076, -5.4363, -4.9549, -5.165, -4.7571, -5.3855, -3.9841, -5.443, -5.4728, -4.7253, -5.7059, -5.7484, -4.4203, -5.4479, -5.1519, -4.9021, -5.3253, -5.5861, -5.3739, -5.5209, -5.8401, -5.9077, -5.9388, -6.0614, -6.0523, -6.1557, -6.3349, -6.3589, -6.3759, -6.3998, -6.4019, -6.4287, -5.6123, -6.4606, -6.4814, -6.5035, -6.5171, -6.5361, -6.5517, -6.5639, -6.5625, -6.5897, -6.6508, -6.7233, -6.7256, -6.7604, -6.7671, -6.7686, -6.2411, -6.5458, -6.7549, -6.5897, -6.0685, -6.0411, -5.6583, -5.6145, -6.0242, -5.0137, -5.6174, -5.5839, -5.8216, -6.1806, -6.2454, -5.6064, -6.057, -5.9863, -5.4467, -5.9086, -5.868, -5.8442, -6.1275, -6.0218, -5.9229, -6.0856, -6.0701, -6.098, -6.1236, -2.8596, -3.7157, -4.0413, -4.2466, -4.4299, -4.5812, -4.9401, -4.9651, -5.0437, -5.2756, -5.4576, -5.4333, -5.6895, -5.7779, -5.7849, -5.8618, -5.1526, -5.9692, -4.7267, -6.3157, -6.3339, -6.5196, -5.914, -6.6308, -6.625, -6.6136, -6.7135, -6.7325, -6.5459, -6.8568, -5.7237, -5.7958, -4.3531, -6.0526, -6.4247, -5.1826, -5.9757, -3.4324, -4.9775, -3.1635, -3.9678, -4.3702, -4.541, -3.3281, -4.7822, -4.9067, -4.2842, -5.0127, -4.2626, -4.6898, -4.8784, -4.9397, -4.7428, -4.9744, -4.9834, -4.7423, -4.9735, -3.4283, -4.3699, -4.383, -4.3946, -3.805, -4.4659, -4.5387, -4.829, -4.9552, -4.951, -5.2492, -5.2747, -5.3583, -5.3889, -5.449, -5.4422, -5.5426, -5.5752, -5.6166, -5.6517, -5.1923, -5.6791, -5.6901, -5.7269, -5.7703, -5.8156, -5.6786, -5.8453, -5.8754, -5.9207, -4.1038, -4.6537, -5.6774, -4.4983, -4.9049, -4.8605, -5.1809, -5.4328, -5.3004, -5.5765, -5.5904, -5.5768], \"loglift\": [30.0, 29.0, 28.0, 27.0, 26.0, 25.0, 24.0, 23.0, 22.0, 21.0, 20.0, 19.0, 18.0, 17.0, 16.0, 15.0, 14.0, 13.0, 12.0, 11.0, 10.0, 9.0, 8.0, 7.0, 6.0, 5.0, 4.0, 3.0, 2.0, 1.0, 0.4344, 0.4344, 0.4344, 0.4344, 0.4344, 0.4344, 0.4343, 0.4343, 0.4343, 0.4343, 0.4343, 0.4343, 0.4343, 0.4343, 0.4343, 0.4343, 0.4343, 0.4343, 0.4342, 0.4342, 0.4342, 0.4342, 0.4342, 0.4342, 0.4342, 0.4342, 0.4342, 0.4342, 0.4342, 0.4342, 0.434, 0.4334, 0.4337, 0.4273, 0.4334, 0.4336, 0.4338, 0.4334, 0.4341, 0.4341, 0.4326, 0.4329, 0.4338, 0.4202, 0.4286, 0.4177, 0.4287, 0.4061, 0.3972, 0.3999, 0.4117, 0.4237, 0.3318, 0.3931, 0.3735, 0.3764, 0.3392, 0.3555, 0.319, 0.3655, 0.1847, 0.3627, 0.359, 0.2256, 0.3834, 0.3915, 0.0199, 0.2659, 0.1357, -0.0575, 0.1841, 0.1419, 1.6719, 1.6718, 1.6718, 1.6717, 1.6717, 1.6717, 1.6717, 1.6717, 1.6716, 1.6716, 1.6716, 1.6716, 1.6716, 1.6715, 1.6715, 1.6715, 1.6715, 1.6715, 1.6715, 1.6715, 1.6715, 1.6715, 1.6715, 1.6715, 1.6714, 1.6714, 1.6713, 1.6713, 1.6713, 1.6713, 1.6701, 1.6713, 1.6713, 1.6657, 1.6195, 1.5529, 1.418, 1.4025, 1.507, 1.139, 1.2005, 1.1818, 1.2032, 1.3797, 1.4195, 0.7895, 1.1069, 0.9677, 0.0626, 0.7843, 0.6154, 0.4638, 0.9412, 0.4941, -0.0131, 0.6143, 0.3533, 0.5928, 0.4682, 2.3573, 2.3573, 2.3573, 2.3572, 2.3572, 2.3572, 2.3571, 2.3571, 2.3571, 2.357, 2.357, 2.3569, 2.3568, 2.3568, 2.3568, 2.3567, 2.3567, 2.3567, 2.3566, 2.3564, 2.3564, 2.3562, 2.3561, 2.3561, 2.3561, 2.356, 2.3559, 2.3558, 2.3558, 2.3558, 2.3517, 2.3467, 2.2683, 2.3069, 2.3311, 2.1352, 2.2335, 1.4121, 1.89, 1.2766, 1.5497, 1.4407, 1.5245, 0.8407, 1.6096, 1.5484, 1.0034, 1.5728, 0.6884, 1.1574, 1.3637, 1.414, 0.9853, 1.4476, 1.4237, 0.0299, 1.2366, 2.6614, 2.6612, 2.6612, 2.6612, 2.6612, 2.6612, 2.6612, 2.6611, 2.6611, 2.6611, 2.661, 2.661, 2.6609, 2.6609, 2.6609, 2.6609, 2.6608, 2.6608, 2.6608, 2.6608, 2.6608, 2.6608, 2.6608, 2.6607, 2.6607, 2.6607, 2.6606, 2.6606, 2.6606, 2.6606, 2.6092, 2.4949, 2.6233, 2.32, 2.3606, 2.2641, 2.148, 2.3379, 1.7347, 2.4038, 2.4063, 1.0937]}, \"token.table\": {\"Topic\": [1, 1, 1, 1, 2, 3, 1, 2, 3, 3, 1, 2, 4, 2, 2, 4, 1, 2, 1, 2, 3, 1, 3, 4, 1, 1, 4, 4, 1, 1, 2, 1, 2, 4, 1, 1, 2, 2, 4, 2, 2, 1, 2, 4, 2, 1, 2, 4, 2, 2, 2, 1, 2, 3, 4, 4, 1, 3, 1, 3, 3, 1, 3, 3, 2, 1, 2, 3, 3, 3, 1, 2, 4, 3, 3, 3, 4, 1, 2, 4, 1, 2, 3, 1, 3, 4, 3, 1, 3, 4, 3, 4, 1, 3, 1, 1, 2, 2, 1, 3, 4, 4, 1, 2, 3, 4, 3, 1, 1, 2, 4, 4, 1, 4, 4, 2, 2, 1, 4, 1, 4, 1, 2, 2, 1, 2, 3, 1, 3, 1, 4, 4, 1, 3, 1, 3, 3, 1, 3, 4, 1, 2, 1, 2, 3, 1, 1, 2, 4, 1, 1, 4, 1, 4, 3, 1, 2, 3, 2, 1, 1, 2, 3, 1, 2, 2, 1, 2, 4, 2, 1, 2, 4, 1, 2, 3, 4, 1, 2, 1, 2, 3, 1, 4, 3, 1, 2, 3, 4, 1, 2, 3, 1, 2, 3, 4, 1, 4, 1, 3, 4, 1, 2, 4, 1, 2, 3, 4, 2, 1, 2, 3, 2, 2, 3, 4, 2, 4, 1, 4, 2, 1, 2, 2, 1, 2, 3, 4, 4, 1, 3, 3, 3, 1, 1, 1, 2, 3, 1, 3, 1, 2, 3, 4, 1, 2, 3, 1, 3, 1, 2, 3, 1, 2, 1, 3, 2, 1, 2, 1, 3, 3, 1, 2, 3, 1, 2, 3, 1, 2, 3, 2, 2, 1, 3, 1, 1, 1, 3, 1, 2, 4, 1, 2, 3, 4, 1, 1, 2, 3, 2, 1, 3, 3, 3, 3, 1, 2, 3, 1, 4, 1, 4, 1, 2, 3, 4, 1, 2, 3, 3, 1, 3, 4, 1, 2, 3, 3, 1, 2, 1, 3, 1, 4, 1, 1, 2, 4, 1, 2, 3, 4, 1, 2, 1, 3, 1, 2, 3, 4, 1, 1, 3, 2, 1, 2, 3, 1, 2, 3, 1, 3, 1, 2, 4, 1, 3, 1, 3, 4, 1, 2, 3, 4, 1, 2, 1, 1, 2, 3, 3, 1, 3, 2, 1, 4, 1, 3, 4, 3, 1, 2, 3, 1, 2, 4, 1, 2, 1, 2, 4, 1, 4], \"Freq\": [0.9998670106741735, 0.9998419284656641, 0.9996853820410933, 0.7394483900843274, 0.01131721931889707, 0.24923410063947005, 0.6104684179050696, 0.00011993485616995474, 0.38930854312767305, 0.9988994044053932, 0.026626142364758215, 0.024221200473747796, 0.9490931391308977, 0.999360775407494, 0.9995896245991488, 0.0003040114430046073, 0.9998854849483824, 0.9992278348798266, 0.778954432425643, 0.001591933061296972, 0.21944392521234363, 0.6739175432853054, 0.32599865127628924, 0.9995562425781712, 0.9998788544666951, 0.9998633906616259, 0.9995354645817159, 0.9992248077969399, 0.9998069614355296, 0.9997117366760068, 0.00016526892654587647, 0.9998298358300893, 0.0002637377567475836, 0.99941385310161, 0.9999385687423202, 0.5884139021747271, 0.4116371933668692, 0.9995128567264704, 0.999498980238742, 0.9994129813648823, 0.9994822374332792, 0.64664028711237, 0.3472258280037057, 0.00610357900787764, 0.9990698111500749, 0.9774746536539574, 0.022531896878025003, 0.9992162475760589, 0.9993867685016669, 0.9995857471149403, 0.9998103992684498, 0.7169097775646239, 0.2674748587146938, 0.015559835530999011, 0.9998044568401602, 0.9996608523847195, 0.9989922120326985, 0.001004789072063836, 0.5546670107734373, 0.4452997896972678, 0.9996035161832159, 0.5264942762654597, 0.47342126119468697, 0.999900644351833, 0.9997290922700192, 0.6021729145612621, 0.004680755848480399, 0.39305698435752967, 0.9998264156485586, 0.9990573787338881, 0.0017080626986685076, 0.9980779702552979, 0.9991802494607518, 0.9981514894169021, 0.9991144147973166, 0.9999875513531975, 0.9993950393767513, 0.9998200980594373, 0.22510239360298864, 0.7745258666945808, 0.6400628690628373, 0.34761093528881903, 0.012287896377059588, 0.9334042972300703, 0.06655920938054088, 0.9995911377072487, 0.9975555158905796, 0.9634765408548807, 0.03205152420479162, 0.004479490129826299, 0.998841396079058, 0.9992866236747274, 0.9024408340007982, 0.09754717260578745, 0.9999067973780643, 0.23629132219144672, 0.7635818096432958, 0.999801692264917, 0.005366756655479432, 0.9941916704275648, 0.9993004442234894, 0.9997350490541523, 0.373101900817291, 0.00020048463235749112, 0.6267149607495173, 0.9998048561168594, 0.9996615750083906, 0.9995616649370347, 0.25331337893773126, 0.7463125183260374, 0.9999087318492403, 0.9987277189500924, 0.4013596923989254, 0.5985411577613134, 0.9993740049192074, 0.999544145475137, 0.9987992111316529, 0.9998682339676013, 0.00020641375598009937, 0.9892796223974452, 0.010660929890439447, 0.9999391981903979, 0.9997635741879044, 0.9993762322361144, 0.23369574344870983, 0.6257696262828405, 0.14054593406202529, 0.0004975220385088922, 0.9992730143451098, 0.6040264949528116, 0.39588863680188197, 0.9998867962648472, 0.6987274933429766, 0.30123047085783267, 0.025170144008124017, 0.9736871497879553, 0.9987983344510574, 0.7666751060935042, 0.024694280849049954, 0.2085843589049753, 0.05100662757220591, 0.9486321895795082, 0.6851035634851784, 0.3079228081301512, 0.006911689234254424, 0.9998596210965605, 0.12269182901528193, 0.030805740618555635, 0.8466267335513393, 0.9999065415804801, 0.9998541316703721, 0.00016809921514296774, 0.9928489996394207, 0.007103544273654089, 0.9998903343823332, 0.5709077959636969, 0.2986868601399474, 0.1303819128650787, 0.9992660497210334, 0.9998250887751894, 0.7833109323178106, 0.00023045334872545177, 0.2164725122361077, 0.9999002938572419, 0.9995396662109033, 0.9993346512236324, 0.9998789840491044, 0.289153889348079, 0.7107650719024727, 0.9992821948663715, 0.0008032168770961242, 0.9935792769679057, 0.00562251813967287, 0.9720357206392092, 0.0005677226052599294, 9.462043420998824e-05, 0.0273453054866866, 0.22430362811182708, 0.7756755421488293, 0.18913369953226813, 0.7770057397255064, 0.03382155568106442, 0.9993120422516966, 0.0005371923355740876, 0.9993612488839138, 0.8909575520783893, 0.028077446773432643, 0.045391872283716106, 0.035564765913014676, 0.6000350737945022, 6.969857983441773e-05, 0.3998607525100545, 0.4369668848637421, 0.4944567751684766, 0.01683164088769792, 0.051806479095901393, 0.00013422310988473978, 0.9998279455314266, 0.9307663591019844, 0.06919216583864286, 0.9989443106520315, 0.25699329216591266, 0.0026863410330931637, 0.7402361957856718, 0.9941979594553791, 0.0033237941295923695, 0.0021732500078103954, 0.0002556764715071053, 0.9993181878585649, 0.00031451501077773484, 0.19877348681152843, 0.8007552174401129, 0.9994810713745201, 0.9992174837783985, 0.9979467104179522, 0.9997161597732497, 0.22694386391322016, 0.7729512784356182, 0.0369770216482903, 0.9622429497111907, 0.9992849350494447, 0.5182635701334783, 0.48148990148635357, 0.9998902358898597, 0.9408846910672026, 0.00018363503176121318, 0.05894684519534943, 0.9995983928949127, 0.9993267425332321, 0.0003809013128467406, 0.9994850449098472, 0.9992818108610081, 0.999878946087764, 0.9997531642597821, 0.9999181950560062, 0.6453593328246271, 0.3000821986159313, 0.054477397111817136, 0.6606302797620066, 0.3393583242624227, 0.7785151078055408, 0.20001580044268957, 0.021032589324901377, 0.00041240371225296824, 0.9273000627723941, 7.11610822479007e-05, 0.07258430389285872, 0.11581285534144806, 0.8835523798234978, 0.5714817890756838, 0.05824223188215021, 0.3701545897335182, 0.9833972111331211, 0.016568634875384597, 0.5973518975406626, 0.4025576523624199, 0.999742382513128, 0.9998486837892882, 0.9997582806274312, 0.5651858009952807, 0.43483437560269966, 0.9994842313064126, 0.9502273042569903, 0.0005524042074936481, 0.04916397446693468, 0.9579575836686273, 0.0008716629514728182, 0.04116186159732753, 0.8114197286599065, 0.18542779689648914, 0.0031545807770772013, 0.9994418851430126, 0.9994094953267476, 0.7464197897375527, 0.25359668490180887, 0.9996067665315708, 0.9997929008901003, 0.9997471785944144, 0.9996532645388015, 0.4311771633887353, 0.568161527992536, 0.000269654261031104, 0.9594719491498997, 0.014601365475734016, 0.025876864370884173, 0.9995849172710657, 0.999803235327588, 0.9091008048743673, 0.027848278130295636, 0.0630119248440719, 0.999780337604153, 0.0008151369991416307, 0.9985428239484976, 0.9994571127887942, 0.999829480443176, 0.9991316362557259, 0.4122562085242578, 0.58675152019798, 0.0009808617856870278, 0.999139926886288, 0.0007371912888979006, 0.327691261087736, 0.6722337341776103, 0.5251745523148367, 0.01859961702698673, 0.4563710909548451, 0.9998306509355029, 0.9942958527406254, 0.00014119509411255685, 0.005506608670389717, 0.9998695260316076, 0.8115501199794847, 0.18843559080349354, 0.9991514040168877, 0.3384240133736761, 0.624005043824856, 0.03758147160913991, 0.9998355480199999, 0.1518480289270123, 0.8480128384693149, 0.7417888017286023, 0.25819305135325804, 0.9989189121076157, 0.0009400957763852259, 0.9998152596553531, 0.9992792972375978, 0.0006181473206665946, 8.83067600952278e-05, 0.9660124697769428, 0.002184035944219545, 0.031690807272246865, 8.914432425385898e-05, 0.9994289081745873, 0.0006357690255563533, 0.010044801671984838, 0.9894129646905067, 0.9240862515308411, 0.043318986575400745, 0.032528336489831604, 5.2128744374730135e-05, 0.9999080642691706, 0.04902182200880748, 0.9510233469708651, 0.9997670187771666, 0.11234498171744828, 0.8875668112806523, 0.9998464966140177, 0.46876901291041906, 0.08529215547022925, 0.44589969639189325, 0.9995306438099678, 0.0004808077588420681, 0.9996404665978199, 0.00028849652715665796, 0.9989129833207989, 0.9989573520973559, 0.0009196620467344725, 0.005935928699056611, 0.2705794165319972, 0.7236886405599852, 0.8448947625396307, 6.324535987271731e-05, 0.12288573423268975, 0.0321286428153404, 0.6601153569094899, 0.3398863240081186, 0.9997171216757078, 0.9858360855202692, 0.01060379157647424, 0.0035609747831443343, 0.9997778033946805, 0.08511739668836726, 0.914816071958216, 0.9989419868473778, 0.99854273144269, 0.0015368106678610082, 0.6114104373360396, 0.3885683298084103, 0.9999057126633651, 0.9977853833710111, 0.9435584880056547, 0.0009076034290842406, 0.055503440470920866, 0.33064215261758595, 0.612394173139472, 0.05667633831834853, 0.9981025042032239, 0.0017778811973694763, 0.5626959989467037, 0.41370290540612475, 0.023643740284777014, 0.0005371516678705352, 0.9991021022391955], \"Term\": [\"account\", \"accus\", \"action\", \"ad\", \"ad\", \"ad\", \"add\", \"add\", \"add\", \"advertis\", \"aid\", \"aid\", \"aid\", \"america\", \"american\", \"american\", \"answer\", \"arab\", \"articl\", \"articl\", \"articl\", \"ask\", \"ask\", \"ass\", \"attack\", \"bad\", \"barnstar\", \"bastard\", \"best\", \"better\", \"better\", \"bit\", \"bit\", \"bitch\", \"block\", \"book\", \"book\", \"born\", \"boy\", \"british\", \"bush\", \"call\", \"call\", \"call\", \"centuri\", \"chang\", \"chang\", \"chicken\", \"christian\", \"church\", \"citi\", \"claim\", \"claim\", \"claim\", \"cock\", \"cocksuck\", \"comment\", \"comment\", \"content\", \"content\", \"contest\", \"contribut\", \"contribut\", \"copyright\", \"countri\", \"creat\", \"creat\", \"creat\", \"criteria\", \"criterion\", \"cultur\", \"cultur\", \"cunt\", \"db\", \"delay\", \"delet\", \"dick\", \"didnt\", \"die\", \"die\", \"differ\", \"differ\", \"differ\", \"discuss\", \"discuss\", \"dog\", \"domain\", \"dont\", \"dont\", \"dont\", \"dyk\", \"eat\", \"edit\", \"edit\", \"editor\", \"english\", \"english\", \"ethnic\", \"extern\", \"extern\", \"fag\", \"faggot\", \"fair\", \"fair\", \"fair\", \"fat\", \"file\", \"fix\", \"forc\", \"forc\", \"fuck\", \"fucker\", \"game\", \"game\", \"gay\", \"german\", \"germani\", \"get\", \"get\", \"go\", \"go\", \"good\", \"govern\", \"greek\", \"group\", \"group\", \"group\", \"guidelin\", \"guidelin\", \"guy\", \"guy\", \"hate\", \"help\", \"help\", \"helpm\", \"helpm\", \"hesit\", \"hi\", \"hi\", \"hi\", \"histor\", \"histor\", \"histori\", \"histori\", \"histori\", \"hope\", \"huge\", \"huge\", \"huge\", \"id\", \"ill\", \"ill\", \"im\", \"im\", \"imag\", \"includ\", \"includ\", \"includ\", \"india\", \"info\", \"inform\", \"inform\", \"inform\", \"ip\", \"islam\", \"israel\", \"ive\", \"jew\", \"jew\", \"jewish\", \"king\", \"king\", \"king\", \"know\", \"know\", \"know\", \"know\", \"languag\", \"languag\", \"law\", \"law\", \"law\", \"let\", \"let\", \"licens\", \"like\", \"like\", \"like\", \"like\", \"link\", \"link\", \"link\", \"live\", \"live\", \"live\", \"live\", \"lol\", \"lol\", \"look\", \"look\", \"loser\", \"love\", \"love\", \"love\", \"make\", \"make\", \"make\", \"make\", \"map\", \"media\", \"media\", \"media\", \"militari\", \"modern\", \"mongo\", \"moron\", \"mother\", \"mother\", \"movi\", \"movi\", \"muslim\", \"name\", \"name\", \"nation\", \"need\", \"need\", \"need\", \"nigger\", \"nippl\", \"nomin\", \"nomin\", \"nonfre\", \"notabl\", \"ok\", \"opinion\", \"origin\", \"origin\", \"origin\", \"page\", \"page\", \"peopl\", \"peopl\", \"peopl\", \"peopl\", \"person\", \"person\", \"person\", \"pillar\", \"pillar\", \"place\", \"place\", \"place\", \"point\", \"point\", \"polici\", \"polici\", \"popul\", \"post\", \"presid\", \"question\", \"question\", \"rational\", \"read\", \"read\", \"read\", \"reason\", \"reason\", \"reason\", \"refer\", \"refer\", \"refer\", \"region\", \"religion\", \"remov\", \"remov\", \"repeat\", \"repli\", \"respons\", \"sandbox\", \"school\", \"school\", \"school\", \"section\", \"section\", \"section\", \"shit\", \"sorri\", \"sourc\", \"sourc\", \"sourc\", \"south\", \"spam\", \"spam\", \"specifi\", \"speedi\", \"speedili\", \"state\", \"state\", \"state\", \"stop\", \"stop\", \"stupid\", \"stupid\", \"subject\", \"subject\", \"subject\", \"suck\", \"sure\", \"sure\", \"sure\", \"tag\", \"talk\", \"talk\", \"teabag\", \"term\", \"term\", \"term\", \"test\", \"th\", \"th\", \"thank\", \"thank\", \"that\", \"that\", \"there\", \"thing\", \"thing\", \"thing\", \"think\", \"think\", \"think\", \"think\", \"thought\", \"thought\", \"tild\", \"tild\", \"time\", \"time\", \"time\", \"time\", \"tri\", \"tutori\", \"tutori\", \"unit\", \"univers\", \"univers\", \"upload\", \"use\", \"use\", \"use\", \"user\", \"user\", \"utc\", \"utc\", \"vagina\", \"vandal\", \"vandal\", \"video\", \"video\", \"video\", \"want\", \"want\", \"want\", \"want\", \"war\", \"war\", \"warn\", \"way\", \"way\", \"way\", \"web\", \"welcom\", \"welcom\", \"west\", \"wiki\", \"wiki\", \"wikipedia\", \"wikipedia\", \"wikipediahi\", \"wikipediaimag\", \"work\", \"work\", \"work\", \"world\", \"world\", \"world\", \"wrong\", \"wrong\", \"year\", \"year\", \"year\", \"youi\", \"youi\"]}, \"R\": 30, \"lambda.step\": 0.01, \"plot.opts\": {\"xlab\": \"PC1\", \"ylab\": \"PC2\"}, \"topic.order\": [2, 4, 1, 3]};\n",
              "\n",
              "function LDAvis_load_lib(url, callback){\n",
              "  var s = document.createElement('script');\n",
              "  s.src = url;\n",
              "  s.async = true;\n",
              "  s.onreadystatechange = s.onload = callback;\n",
              "  s.onerror = function(){console.warn(\"failed to load library \" + url);};\n",
              "  document.getElementsByTagName(\"head\")[0].appendChild(s);\n",
              "}\n",
              "\n",
              "if(typeof(LDAvis) !== \"undefined\"){\n",
              "   // already loaded: just create the visualization\n",
              "   !function(LDAvis){\n",
              "       new LDAvis(\"#\" + \"ldavis_el13921400746019182888162289643\", ldavis_el13921400746019182888162289643_data);\n",
              "   }(LDAvis);\n",
              "}else if(typeof define === \"function\" && define.amd){\n",
              "   // require.js is available: use it to load d3/LDAvis\n",
              "   require.config({paths: {d3: \"https://d3js.org/d3.v5\"}});\n",
              "   require([\"d3\"], function(d3){\n",
              "      window.d3 = d3;\n",
              "      LDAvis_load_lib(\"https://cdn.jsdelivr.net/gh/bmabey/pyLDAvis@3.3.1/pyLDAvis/js/ldavis.v3.0.0.js\", function(){\n",
              "        new LDAvis(\"#\" + \"ldavis_el13921400746019182888162289643\", ldavis_el13921400746019182888162289643_data);\n",
              "      });\n",
              "    });\n",
              "}else{\n",
              "    // require.js not available: dynamically load d3 & LDAvis\n",
              "    LDAvis_load_lib(\"https://d3js.org/d3.v5.js\", function(){\n",
              "         LDAvis_load_lib(\"https://cdn.jsdelivr.net/gh/bmabey/pyLDAvis@3.3.1/pyLDAvis/js/ldavis.v3.0.0.js\", function(){\n",
              "                 new LDAvis(\"#\" + \"ldavis_el13921400746019182888162289643\", ldavis_el13921400746019182888162289643_data);\n",
              "            })\n",
              "         });\n",
              "}\n",
              "</script>"
            ],
            "text/plain": [
              "PreparedData(topic_coordinates=              x         y  topics  cluster       Freq\n",
              "topic                                                \n",
              "1     -0.202153 -0.162065       1        1  64.762069\n",
              "3     -0.221460  0.221312       2        1  18.786042\n",
              "0      0.132708 -0.292876       3        1   9.467062\n",
              "2      0.290905  0.233630       4        1   6.984826, topic_info=          Term          Freq         Total Category  logprob  loglift\n",
              "12        page  56506.000000  56506.000000  Default  30.0000  30.0000\n",
              "47      articl  74123.000000  74123.000000  Default  29.0000  29.0000\n",
              "142      delet  25986.000000  25986.000000  Default  28.0000  28.0000\n",
              "196  wikipedia  37712.000000  37712.000000  Default  27.0000  27.0000\n",
              "16        talk  33905.000000  33905.000000  Default  26.0000  26.0000\n",
              "..         ...           ...           ...      ...      ...      ...\n",
              "193      video   1462.759447   2021.587625   Topic4  -5.4328   2.3379\n",
              "36         guy   1669.839548   4218.358005   Topic4  -5.3004   1.7347\n",
              "475     mother   1266.891481   1639.171880   Topic4  -5.5765   2.4038\n",
              "976        die   1249.469879   1612.599467   Topic4  -5.5904   2.4063\n",
              "651         hi   1266.598430   6074.280961   Topic4  -5.5768   1.0937\n",
              "\n",
              "[260 rows x 6 columns], token_table=       Topic      Freq     Term\n",
              "term                           \n",
              "1299       1  0.999867  account\n",
              "223        1  0.999842    accus\n",
              "1594       1  0.999685   action\n",
              "121        1  0.739448       ad\n",
              "121        2  0.011317       ad\n",
              "...      ...       ...      ...\n",
              "307        1  0.562696     year\n",
              "307        2  0.413703     year\n",
              "307        4  0.023644     year\n",
              "11370      1  0.000537     youi\n",
              "11370      4  0.999102     youi\n",
              "\n",
              "[393 rows x 3 columns], R=30, lambda_step=0.01, plot_opts={'xlab': 'PC1', 'ylab': 'PC2'}, topic_order=[2, 4, 1, 3])"
            ]
          },
          "metadata": {},
          "execution_count": 63
        }
      ]
    },
    {
      "cell_type": "markdown",
      "metadata": {
        "id": "8E-y1DirC6WO"
      },
      "source": [
        "## Spacy Classification Attempt (ignore)\n"
      ]
    },
    {
      "cell_type": "code",
      "metadata": {
        "id": "_o7Ehpkl12Re"
      },
      "source": [
        "#spacy classification\n",
        "\n",
        "\n",
        "\n",
        "\n",
        "\n"
      ],
      "execution_count": null,
      "outputs": []
    },
    {
      "cell_type": "code",
      "metadata": {
        "id": "plvZoH5E10Co"
      },
      "source": [
        "# def gen_words(texts):\n",
        "#     final = []\n",
        "#     for text in texts:\n",
        "#         new = gensim.utils.simple_preprocess(text, deacc=True)\n",
        "#         final.append(new)\n",
        "#     return (final)\n",
        "\n",
        "# data_words = gen_words(ldf2.comment)\n",
        "\n",
        "# print (data_words[0][0:20])"
      ],
      "execution_count": null,
      "outputs": []
    },
    {
      "cell_type": "code",
      "metadata": {
        "id": "752pCg8g1zSB"
      },
      "source": [
        "# id2word = corpora.Dictionary(data_words)\n",
        "\n",
        "# corpus = []\n",
        "# for text in data_words:\n",
        "#     new = id2word.doc2bow(text)\n",
        "#     corpus.append(new)\n",
        "\n",
        "# print (corpus[0][0:20])\n",
        "\n",
        "# word = id2word[[0][:1][0]]\n",
        "# print (word)"
      ],
      "execution_count": null,
      "outputs": []
    },
    {
      "cell_type": "code",
      "metadata": {
        "id": "Rii4e0Mj2wlt"
      },
      "source": [
        "# lda_model = gensim.models.ldamodel.LdaModel(corpus=corpus,\n",
        "#                                            id2word=id2word,\n",
        "#                                            num_topics=30,\n",
        "#                                            random_state=100,\n",
        "#                                            update_every=1,\n",
        "#                                            chunksize=100,\n",
        "#                                            passes=10,\n",
        "#                                            alpha=\"auto\")"
      ],
      "execution_count": null,
      "outputs": []
    },
    {
      "cell_type": "code",
      "metadata": {
        "id": "yBnUBGtJ2z0n"
      },
      "source": [
        "# pyLDAvis.enable_notebook()\n",
        "# vis = pyLDAvis.gensim.prepare(lda_model, corpus, id2word, mds=\"mmds\", R=30)\n",
        "# vis"
      ],
      "execution_count": null,
      "outputs": []
    },
    {
      "cell_type": "code",
      "metadata": {
        "id": "tQNYxI3G4ICt"
      },
      "source": [
        ""
      ],
      "execution_count": null,
      "outputs": []
    },
    {
      "cell_type": "markdown",
      "metadata": {
        "id": "h8HIIecK4Jdm"
      },
      "source": [
        "## Supervised Learning Classification"
      ]
    },
    {
      "cell_type": "code",
      "metadata": {
        "id": "hUpP3gHODcPf"
      },
      "source": [
        "from sklearn.linear_model import LogisticRegression\n",
        "from sklearn.pipeline import Pipeline\n",
        "from sklearn.preprocessing import StandardScaler, OneHotEncoder\n",
        "from sklearn.model_selection import train_test_split, GridSearchCV, cross_val_score\n",
        "from sklearn.metrics import precision_score, recall_score, accuracy_score\n",
        "from sklearn.metrics import roc_auc_score, f1_score, confusion_matrix, log_loss\n",
        "from sklearn.neighbors import KNeighborsClassifier\n",
        "from sklearn.tree import DecisionTreeClassifier\n",
        "from sklearn.ensemble import RandomForestClassifier, VotingClassifier\n",
        "from sklearn.naive_bayes import BernoulliNB, MultinomialNB, GaussianNB"
      ],
      "execution_count": null,
      "outputs": []
    },
    {
      "cell_type": "code",
      "metadata": {
        "id": "yCriRr2D9mc3"
      },
      "source": [
        "#train test split to create a test set; will later add cross val score for validation\n",
        "\n",
        "X_trainer, X_tester, y_train, y_test = train_test_split(df[\"comment\"], df[\"unsafe\"], test_size=0.2, random_state=42)\n",
        "X_train_cv = vecC.fit_transform(X_trainer)\n",
        "X_test_cv  = vecC.transform(X_tester)\n",
        "X_train_tv = vecT.fit_transform(X_trainer)\n",
        "X_test_tv  = vecT.transform(X_tester)"
      ],
      "execution_count": null,
      "outputs": []
    },
    {
      "cell_type": "code",
      "metadata": {
        "id": "fVOvsrB9L4F2"
      },
      "source": [
        "#pick CountVec or TfidfVec\n",
        "X_train = X_train_cv\n",
        "X_test = X_test_cv\n",
        "\n",
        "\n",
        "X_train = X_train_tv\n",
        "X_test = X_test_tv"
      ],
      "execution_count": null,
      "outputs": []
    },
    {
      "cell_type": "code",
      "metadata": {
        "id": "FZxVIfHnEs8u"
      },
      "source": [
        "#from previous notebook\n",
        "#add scoring model for quick and easy analysis\n",
        "def score_this_model(model = None, loc_X = X_test, loc_y = y_test, results = None):\n",
        "    try:  \n",
        "      results = model.predict(loc_X)\n",
        "    except:\n",
        "      pass\n",
        "    print(\"accuracy: {:6.4f}\".format(accuracy_score(loc_y, results)))    \n",
        "    print(\"precision: {:6.4f}\".format(precision_score(loc_y, results)))\n",
        "    print(\"recall: {:6.4f}\".format(recall_score(loc_y, results)))\n",
        "    print(\"roc_auc_score: {:6.4f}\".format(roc_auc_score(loc_y, results)))\n",
        "    print(\"f1_score: {:6.4f}\".format(f1_score(loc_y, results)))\n",
        "    print(confusion_matrix(loc_y, results))"
      ],
      "execution_count": null,
      "outputs": []
    },
    {
      "cell_type": "code",
      "metadata": {
        "colab": {
          "base_uri": "https://localhost:8080/"
        },
        "id": "JzkWOVqdqNnr",
        "outputId": "65156af2-9ec8-4e9d-bb8c-48c4fa6e1727"
      },
      "source": [
        "\n",
        "\n",
        "# Create a logistic regression model to use\n",
        "\n",
        "#Ran GridsearchCV to figure out the optimal C_value\n",
        "# log_m = LogisticRegression()\n",
        "# C_range = np.logspace(-4, 4, 20)\n",
        "# param_grid = {\"C\":C_range}\n",
        "# grid = GridSearchCV(log_m, param_grid, cv=5, scoring='accuracy')\n",
        "# grid.fit(X_train, y_train)\n",
        "\n",
        "\n",
        "#No class balancing\n",
        "log_m_ncb = LogisticRegression(C=5, max_iter = 10000)\n",
        "log_m_ncb.fit(X_train, y_train)\n",
        "y_pred = log_m_ncb.predict(X_test)\n",
        "score_this_model(log_m_ncb)\n",
        "print(\"Log-loss: {:6.4f}\".format(log_loss(y_test, log_m_ncb.predict_proba(X_test))))\n",
        "\n",
        "# #class balancing through imblearn\n",
        "# log_m_imb = LogisticRegression(grid.best_params_, max_iter = 10000 )\n",
        "# log_m_imb.fit(X_train_smote, y_train_smote)\n",
        "# y_pred = log_m_imb.predict(X_test)\n",
        "# score_this_model(log_m_imb)\n",
        "# print(\"Log-loss: {:6.4f}\".format(log_loss(y_test, log_m_imb.predict_proba(X_test))))\n",
        "\n",
        "\n"
      ],
      "execution_count": null,
      "outputs": [
        {
          "name": "stdout",
          "output_type": "stream",
          "text": [
            "accuracy: 0.9603\n",
            "precision: 0.8940\n",
            "recall: 0.6914\n",
            "roc_auc_score: 0.8411\n",
            "f1_score: 0.7798\n",
            "[[28405   266]\n",
            " [ 1001  2243]]\n",
            "Log-loss: 0.1094\n"
          ]
        }
      ]
    },
    {
      "cell_type": "code",
      "metadata": {
        "id": "h8veZaBqcbgQ"
      },
      "source": [
        "confusion = confusion_matrix(y_test, log_m_ncb.predict(X_test))\n",
        "plt.figure(dpi=1200)\n",
        "sns.heatmap(confusion,\n",
        "            cmap = \"Blues\",\n",
        "            annot=True, \n",
        "            square=True,\n",
        "            xticklabels = [\"Non-Toxic\", \"Toxic\"],\n",
        "            yticklabels = [\"Non-Toxic\", \"Toxic\"],\n",
        "            fmt = \"g\")\n",
        "plt.xlabel('Predicted')\n",
        "plt.ylabel('Actual')\n",
        "plt.title('Toxic Comment Classification Confusion Matrix');"
      ],
      "execution_count": null,
      "outputs": []
    },
    {
      "cell_type": "code",
      "metadata": {
        "id": "u37vJ1K6jXdO"
      },
      "source": [
        "# function to determine missed comments to improve accuracy\n",
        "\n",
        "# a = pd.DataFrame(X_tester)\n",
        "# a[\"act\"] = y_test\n",
        "# a[\"pred\"]= y_pred\n",
        "# missing = a[a[\"act\"] != a[\"pred\"]]\n",
        "\n",
        "predictions = log_m_ncb.predict(tfidf)\n",
        "actual = df2[\"unsafe\"]\n",
        "c=0\n",
        "\n",
        "for i in range(len(predictions)):\n",
        "\n",
        "  if predictions[i] != actual[i]:\n",
        "    if predictions[i]<actual[i]:\n",
        "      a = \"missed bad\"\n",
        "    else:\n",
        "      a = \"actually good\"\n",
        "    print(a)\n",
        "    print(train[\"comment_text\"][i])\n",
        "    print(\"\\n\")\n",
        "    c+=1\n",
        "  if c>100:\n",
        "    break"
      ],
      "execution_count": null,
      "outputs": []
    },
    {
      "cell_type": "code",
      "metadata": {
        "id": "XzKhQs7SqNnr"
      },
      "source": [
        "# mnb = MultinomialNB()\n",
        "# C_range = np.logspace(-4, 4, 20)\n",
        "# param_grid = {\"C\":C_range}\n",
        "# grid = GridSearchCV(mnb, param_grid, cv=10, scoring='accuracy')\n",
        "# grid.fit(X_train, y_train)\n",
        "\n",
        "\n",
        "mnb = MultinomialNB()\n",
        "mnb.fit(X_train, y_train)\n",
        "score_this_model(mnb)"
      ],
      "execution_count": null,
      "outputs": []
    },
    {
      "cell_type": "code",
      "metadata": {
        "id": "Ou23jxJiqNnr"
      },
      "source": [
        "# n_estimators = list(range(25, 251, 25))\n",
        "# max_features =  list(range(5,51,5))\n",
        "# param_grid = {\"n_estimators\":n_estimators, \"max_features\" :max_features}\n",
        "# grid = GridSearchCV(randomforest, param_grid, cv=10, scoring=\"accuracy\")\n",
        "# grid.fit(X_train_smote, y_train_smote)\n",
        "\n",
        "\n",
        "#set these models with the results from CV below\n",
        "\n",
        "# randomforest = RandomForestClassifier()\n",
        "# randomforest.fit(X_train, y_train)\n",
        "# score_this_model(randomforest)\n"
      ],
      "execution_count": null,
      "outputs": []
    },
    {
      "cell_type": "markdown",
      "metadata": {
        "id": "74ma6pwUgs-k"
      },
      "source": [
        "## Markov Chain"
      ]
    },
    {
      "cell_type": "code",
      "metadata": {
        "id": "UhzZaGkng75_"
      },
      "source": [
        "def markov_chain(corpus):\n",
        "  m_dict = {}\n",
        "  for text in corpus:\n",
        "    words = tokenizer(text)\n",
        "    for index, current_word in enumerate(words):\n",
        "      try:      \n",
        "        m_dict[current_word].append(words[index+1])\n",
        "      except:\n",
        "        try:\n",
        "          m_dict[current_word] = [words[index+1]]\n",
        "        except:\n",
        "          pass\n",
        "  return m_dict"
      ],
      "execution_count": null,
      "outputs": []
    },
    {
      "cell_type": "code",
      "metadata": {
        "id": "jWWodtI-hjwK"
      },
      "source": [
        "#create dictionary of all words in unsafe comments less than 500 characters and our algorithm guessed correctly\n",
        "guessed = log_m_ncb.predict(tfidf)\n",
        "df2.comment = df2.comment.apply(lambda x : preprocessor(x, checker = False))\n",
        "markov_dict = markov_chain(df2[((guessed==1)&(df2[\"unsafe\"]==1)&(df2[\"comment\"].str.len()<500))][\"comment\"])"
      ],
      "execution_count": null,
      "outputs": []
    },
    {
      "cell_type": "code",
      "metadata": {
        "id": "oOj2BK4aiBtO"
      },
      "source": [
        "def generate_sentence(quote_dict, count=10):\n",
        "\n",
        "    # capitalize the first word\n",
        "    word1 = np.random.choice(list(quote_dict.keys()))\n",
        "    sentence = word1.capitalize()\n",
        "    wordlist = [sentence]\n",
        "\n",
        "    current_word = word1\n",
        "    for i in range(count-1):\n",
        "        try:\n",
        "          next_word = np.random.choice(quote_dict[current_word])\n",
        "          current_word = next_word\n",
        "          wordlist.append(next_word)\n",
        "        except:\n",
        "          break\n",
        "\n",
        "    return \" \".join(wordlist)+\".\""
      ],
      "execution_count": null,
      "outputs": []
    },
    {
      "cell_type": "code",
      "metadata": {
        "id": "w6_HJ15riJFH"
      },
      "source": [
        "generate_sentence(markov_dict)"
      ],
      "execution_count": null,
      "outputs": []
    },
    {
      "cell_type": "markdown",
      "metadata": {
        "id": "t8W9FEQOmbRf"
      },
      "source": [
        "## ScatterText\n"
      ]
    },
    {
      "cell_type": "code",
      "metadata": {
        "colab": {
          "base_uri": "https://localhost:8080/",
          "height": 375
        },
        "id": "avX_my-LkOrK",
        "outputId": "d6260455-de27-40b4-b192-37d52a09f5fd"
      },
      "source": [
        "df2 = df.copy()\n",
        "df2.unsafe = df2.unsafe.apply(lambda x : \"T\" if x == 1 else \"S\")\n",
        "corpus = st.CorpusFromPandas(df2,\n",
        "                             category_col='unsafe',\n",
        "                             text_col='comment',\n",
        "                             nlp=st.whitespace_nlp_with_sentences\n",
        "                            ).build()\n",
        "html = st.produce_scattertext_explorer(\n",
        "        corpus,\n",
        "        category=\"T\",\n",
        "        category_name='Toxic',\n",
        "        not_category_name='Safe',\n",
        "        minimum_term_frequency=10,\n",
        "        pmi_threshold_coefficient=5,\n",
        "        width_in_pixels=1000,\n",
        "        )\n"
      ],
      "execution_count": null,
      "outputs": [
        {
          "ename": "KeyboardInterrupt",
          "evalue": "ignored",
          "output_type": "error",
          "traceback": [
            "\u001b[0;31m---------------------------------------------------------------------------\u001b[0m",
            "\u001b[0;31mKeyboardInterrupt\u001b[0m                         Traceback (most recent call last)",
            "\u001b[0;32m<ipython-input-81-1ffa83ee09f9>\u001b[0m in \u001b[0;36m<module>\u001b[0;34m()\u001b[0m\n\u001b[1;32m      4\u001b[0m                              \u001b[0mcategory_col\u001b[0m\u001b[0;34m=\u001b[0m\u001b[0;34m'unsafe'\u001b[0m\u001b[0;34m,\u001b[0m\u001b[0;34m\u001b[0m\u001b[0;34m\u001b[0m\u001b[0m\n\u001b[1;32m      5\u001b[0m                              \u001b[0mtext_col\u001b[0m\u001b[0;34m=\u001b[0m\u001b[0;34m'comment'\u001b[0m\u001b[0;34m,\u001b[0m\u001b[0;34m\u001b[0m\u001b[0;34m\u001b[0m\u001b[0m\n\u001b[0;32m----> 6\u001b[0;31m                              \u001b[0mnlp\u001b[0m\u001b[0;34m=\u001b[0m\u001b[0mst\u001b[0m\u001b[0;34m.\u001b[0m\u001b[0mwhitespace_nlp_with_sentences\u001b[0m\u001b[0;34m\u001b[0m\u001b[0;34m\u001b[0m\u001b[0m\n\u001b[0m\u001b[1;32m      7\u001b[0m                             ).build()\n\u001b[1;32m      8\u001b[0m html = st.produce_scattertext_explorer(\n",
            "\u001b[0;32m/usr/local/lib/python3.7/dist-packages/scattertext/TermDocMatrixFromPandas.py\u001b[0m in \u001b[0;36mbuild\u001b[0;34m(self)\u001b[0m\n\u001b[1;32m    154\u001b[0m                                                           \u001b[0mterm_idx_store\u001b[0m\u001b[0;34m,\u001b[0m\u001b[0;34m\u001b[0m\u001b[0;34m\u001b[0m\u001b[0m\n\u001b[1;32m    155\u001b[0m                                                           \u001b[0mmetadata_idx_store\u001b[0m\u001b[0;34m,\u001b[0m\u001b[0;34m\u001b[0m\u001b[0;34m\u001b[0m\u001b[0m\n\u001b[0;32m--> 156\u001b[0;31m                                                           y)\n\u001b[0m\u001b[1;32m    157\u001b[0m         \u001b[0;32mreturn\u001b[0m \u001b[0mtdm\u001b[0m\u001b[0;34m\u001b[0m\u001b[0;34m\u001b[0m\u001b[0m\n\u001b[1;32m    158\u001b[0m \u001b[0;34m\u001b[0m\u001b[0m\n",
            "\u001b[0;32m/usr/local/lib/python3.7/dist-packages/scattertext/CorpusFromPandas.py\u001b[0m in \u001b[0;36m_apply_pipeline_and_get_build_instance\u001b[0;34m(self, X_factory, mX_factory, category_idx_store, df, parse_pipeline, term_idx_store, metadata_idx_store, y)\u001b[0m\n\u001b[1;32m     55\u001b[0m                 \u001b[0mCorpusDF\u001b[0m\u001b[0;34m\u001b[0m\u001b[0;34m\u001b[0m\u001b[0m\n\u001b[1;32m     56\u001b[0m \t\t'''\n\u001b[0;32m---> 57\u001b[0;31m                 \u001b[0mdf\u001b[0m\u001b[0;34m.\u001b[0m\u001b[0mapply\u001b[0m\u001b[0;34m(\u001b[0m\u001b[0mparse_pipeline\u001b[0m\u001b[0;34m.\u001b[0m\u001b[0mparse\u001b[0m\u001b[0;34m,\u001b[0m \u001b[0maxis\u001b[0m\u001b[0;34m=\u001b[0m\u001b[0;36m1\u001b[0m\u001b[0;34m)\u001b[0m\u001b[0;34m\u001b[0m\u001b[0;34m\u001b[0m\u001b[0m\n\u001b[0m\u001b[1;32m     58\u001b[0m                 \u001b[0my\u001b[0m \u001b[0;34m=\u001b[0m \u001b[0mnp\u001b[0m\u001b[0;34m.\u001b[0m\u001b[0marray\u001b[0m\u001b[0;34m(\u001b[0m\u001b[0my\u001b[0m\u001b[0;34m)\u001b[0m\u001b[0;34m\u001b[0m\u001b[0;34m\u001b[0m\u001b[0m\n\u001b[1;32m     59\u001b[0m                 \u001b[0mX\u001b[0m\u001b[0;34m,\u001b[0m \u001b[0mmX\u001b[0m \u001b[0;34m=\u001b[0m \u001b[0mbuild_sparse_matrices\u001b[0m\u001b[0;34m(\u001b[0m\u001b[0my\u001b[0m\u001b[0;34m,\u001b[0m \u001b[0mX_factory\u001b[0m\u001b[0;34m,\u001b[0m \u001b[0mmX_factory\u001b[0m\u001b[0;34m)\u001b[0m\u001b[0;34m\u001b[0m\u001b[0;34m\u001b[0m\u001b[0m\n",
            "\u001b[0;32m/usr/local/lib/python3.7/dist-packages/pandas/core/frame.py\u001b[0m in \u001b[0;36mapply\u001b[0;34m(self, func, axis, raw, result_type, args, **kwargs)\u001b[0m\n\u001b[1;32m   8739\u001b[0m             \u001b[0mkwargs\u001b[0m\u001b[0;34m=\u001b[0m\u001b[0mkwargs\u001b[0m\u001b[0;34m,\u001b[0m\u001b[0;34m\u001b[0m\u001b[0;34m\u001b[0m\u001b[0m\n\u001b[1;32m   8740\u001b[0m         )\n\u001b[0;32m-> 8741\u001b[0;31m         \u001b[0;32mreturn\u001b[0m \u001b[0mop\u001b[0m\u001b[0;34m.\u001b[0m\u001b[0mapply\u001b[0m\u001b[0;34m(\u001b[0m\u001b[0;34m)\u001b[0m\u001b[0;34m\u001b[0m\u001b[0;34m\u001b[0m\u001b[0m\n\u001b[0m\u001b[1;32m   8742\u001b[0m \u001b[0;34m\u001b[0m\u001b[0m\n\u001b[1;32m   8743\u001b[0m     def applymap(\n",
            "\u001b[0;32m/usr/local/lib/python3.7/dist-packages/pandas/core/apply.py\u001b[0m in \u001b[0;36mapply\u001b[0;34m(self)\u001b[0m\n\u001b[1;32m    686\u001b[0m             \u001b[0;32mreturn\u001b[0m \u001b[0mself\u001b[0m\u001b[0;34m.\u001b[0m\u001b[0mapply_raw\u001b[0m\u001b[0;34m(\u001b[0m\u001b[0;34m)\u001b[0m\u001b[0;34m\u001b[0m\u001b[0;34m\u001b[0m\u001b[0m\n\u001b[1;32m    687\u001b[0m \u001b[0;34m\u001b[0m\u001b[0m\n\u001b[0;32m--> 688\u001b[0;31m         \u001b[0;32mreturn\u001b[0m \u001b[0mself\u001b[0m\u001b[0;34m.\u001b[0m\u001b[0mapply_standard\u001b[0m\u001b[0;34m(\u001b[0m\u001b[0;34m)\u001b[0m\u001b[0;34m\u001b[0m\u001b[0;34m\u001b[0m\u001b[0m\n\u001b[0m\u001b[1;32m    689\u001b[0m \u001b[0;34m\u001b[0m\u001b[0m\n\u001b[1;32m    690\u001b[0m     \u001b[0;32mdef\u001b[0m \u001b[0magg\u001b[0m\u001b[0;34m(\u001b[0m\u001b[0mself\u001b[0m\u001b[0;34m)\u001b[0m\u001b[0;34m:\u001b[0m\u001b[0;34m\u001b[0m\u001b[0;34m\u001b[0m\u001b[0m\n",
            "\u001b[0;32m/usr/local/lib/python3.7/dist-packages/pandas/core/apply.py\u001b[0m in \u001b[0;36mapply_standard\u001b[0;34m(self)\u001b[0m\n\u001b[1;32m    810\u001b[0m \u001b[0;34m\u001b[0m\u001b[0m\n\u001b[1;32m    811\u001b[0m     \u001b[0;32mdef\u001b[0m \u001b[0mapply_standard\u001b[0m\u001b[0;34m(\u001b[0m\u001b[0mself\u001b[0m\u001b[0;34m)\u001b[0m\u001b[0;34m:\u001b[0m\u001b[0;34m\u001b[0m\u001b[0;34m\u001b[0m\u001b[0m\n\u001b[0;32m--> 812\u001b[0;31m         \u001b[0mresults\u001b[0m\u001b[0;34m,\u001b[0m \u001b[0mres_index\u001b[0m \u001b[0;34m=\u001b[0m \u001b[0mself\u001b[0m\u001b[0;34m.\u001b[0m\u001b[0mapply_series_generator\u001b[0m\u001b[0;34m(\u001b[0m\u001b[0;34m)\u001b[0m\u001b[0;34m\u001b[0m\u001b[0;34m\u001b[0m\u001b[0m\n\u001b[0m\u001b[1;32m    813\u001b[0m \u001b[0;34m\u001b[0m\u001b[0m\n\u001b[1;32m    814\u001b[0m         \u001b[0;31m# wrap results\u001b[0m\u001b[0;34m\u001b[0m\u001b[0;34m\u001b[0m\u001b[0;34m\u001b[0m\u001b[0m\n",
            "\u001b[0;32m/usr/local/lib/python3.7/dist-packages/pandas/core/apply.py\u001b[0m in \u001b[0;36mapply_series_generator\u001b[0;34m(self)\u001b[0m\n\u001b[1;32m    826\u001b[0m             \u001b[0;32mfor\u001b[0m \u001b[0mi\u001b[0m\u001b[0;34m,\u001b[0m \u001b[0mv\u001b[0m \u001b[0;32min\u001b[0m \u001b[0menumerate\u001b[0m\u001b[0;34m(\u001b[0m\u001b[0mseries_gen\u001b[0m\u001b[0;34m)\u001b[0m\u001b[0;34m:\u001b[0m\u001b[0;34m\u001b[0m\u001b[0;34m\u001b[0m\u001b[0m\n\u001b[1;32m    827\u001b[0m                 \u001b[0;31m# ignore SettingWithCopy here in case the user mutates\u001b[0m\u001b[0;34m\u001b[0m\u001b[0;34m\u001b[0m\u001b[0;34m\u001b[0m\u001b[0m\n\u001b[0;32m--> 828\u001b[0;31m                 \u001b[0mresults\u001b[0m\u001b[0;34m[\u001b[0m\u001b[0mi\u001b[0m\u001b[0;34m]\u001b[0m \u001b[0;34m=\u001b[0m \u001b[0mself\u001b[0m\u001b[0;34m.\u001b[0m\u001b[0mf\u001b[0m\u001b[0;34m(\u001b[0m\u001b[0mv\u001b[0m\u001b[0;34m)\u001b[0m\u001b[0;34m\u001b[0m\u001b[0;34m\u001b[0m\u001b[0m\n\u001b[0m\u001b[1;32m    829\u001b[0m                 \u001b[0;32mif\u001b[0m \u001b[0misinstance\u001b[0m\u001b[0;34m(\u001b[0m\u001b[0mresults\u001b[0m\u001b[0;34m[\u001b[0m\u001b[0mi\u001b[0m\u001b[0;34m]\u001b[0m\u001b[0;34m,\u001b[0m \u001b[0mABCSeries\u001b[0m\u001b[0;34m)\u001b[0m\u001b[0;34m:\u001b[0m\u001b[0;34m\u001b[0m\u001b[0;34m\u001b[0m\u001b[0m\n\u001b[1;32m    830\u001b[0m                     \u001b[0;31m# If we have a view on v, we need to make a copy because\u001b[0m\u001b[0;34m\u001b[0m\u001b[0;34m\u001b[0m\u001b[0;34m\u001b[0m\u001b[0m\n",
            "\u001b[0;32m/usr/local/lib/python3.7/dist-packages/scattertext/TermDocMatrixFromPandas.py\u001b[0m in \u001b[0;36mparse\u001b[0;34m(self, row)\u001b[0m\n\u001b[1;32m     33\u001b[0m         \u001b[0;32mif\u001b[0m \u001b[0mself\u001b[0m\u001b[0;34m.\u001b[0m\u001b[0m_verbose\u001b[0m \u001b[0;32mand\u001b[0m \u001b[0mrow\u001b[0m\u001b[0;34m.\u001b[0m\u001b[0mname\u001b[0m \u001b[0;34m%\u001b[0m \u001b[0;36m100\u001b[0m\u001b[0;34m:\u001b[0m\u001b[0;34m\u001b[0m\u001b[0;34m\u001b[0m\u001b[0m\n\u001b[1;32m     34\u001b[0m             \u001b[0mprint\u001b[0m\u001b[0;34m(\u001b[0m\u001b[0mrow\u001b[0m\u001b[0;34m.\u001b[0m\u001b[0mname\u001b[0m\u001b[0;34m)\u001b[0m\u001b[0;34m\u001b[0m\u001b[0;34m\u001b[0m\u001b[0m\n\u001b[0;32m---> 35\u001b[0;31m         \u001b[0mself\u001b[0m\u001b[0;34m.\u001b[0m\u001b[0m_register_document\u001b[0m\u001b[0;34m(\u001b[0m\u001b[0mparsed_text\u001b[0m\u001b[0;34m,\u001b[0m \u001b[0mrow\u001b[0m\u001b[0;34m)\u001b[0m\u001b[0;34m\u001b[0m\u001b[0;34m\u001b[0m\u001b[0m\n\u001b[0m\u001b[1;32m     36\u001b[0m \u001b[0;34m\u001b[0m\u001b[0m\n\u001b[1;32m     37\u001b[0m     \u001b[0;32mdef\u001b[0m \u001b[0m_get_raw_text_from_row\u001b[0m\u001b[0;34m(\u001b[0m\u001b[0mself\u001b[0m\u001b[0;34m,\u001b[0m \u001b[0mrow\u001b[0m\u001b[0;34m)\u001b[0m\u001b[0;34m:\u001b[0m\u001b[0;34m\u001b[0m\u001b[0;34m\u001b[0m\u001b[0m\n",
            "\u001b[0;32m/usr/local/lib/python3.7/dist-packages/scattertext/TermDocMatrixFromPandas.py\u001b[0m in \u001b[0;36m_register_document\u001b[0;34m(self, parsed_text, row)\u001b[0m\n\u001b[1;32m     75\u001b[0m                                         \u001b[0mterm_idx_store\u001b[0m\u001b[0;34m=\u001b[0m\u001b[0mself\u001b[0m\u001b[0;34m.\u001b[0m\u001b[0mterm_idx_store\u001b[0m\u001b[0;34m,\u001b[0m\u001b[0;34m\u001b[0m\u001b[0;34m\u001b[0m\u001b[0m\n\u001b[1;32m     76\u001b[0m                                         \u001b[0mmetadata_idx_store\u001b[0m\u001b[0;34m=\u001b[0m\u001b[0mself\u001b[0m\u001b[0;34m.\u001b[0m\u001b[0mmetadata_idx_store\u001b[0m\u001b[0;34m,\u001b[0m\u001b[0;34m\u001b[0m\u001b[0;34m\u001b[0m\u001b[0m\n\u001b[0;32m---> 77\u001b[0;31m                                         y=self.y)\n\u001b[0m\u001b[1;32m     78\u001b[0m \u001b[0;34m\u001b[0m\u001b[0m\n\u001b[1;32m     79\u001b[0m \u001b[0;34m\u001b[0m\u001b[0m\n",
            "\u001b[0;32m/usr/local/lib/python3.7/dist-packages/scattertext/TermDocMatrixFactory.py\u001b[0m in \u001b[0;36m_register_doc_and_category\u001b[0;34m(self, X_factory, mX_factory, category, category_idx_store, document_index, parsed_text, term_idx_store, metadata_idx_store, y)\u001b[0m\n\u001b[1;32m    243\u001b[0m                                    \u001b[0mmetadata_idx_store\u001b[0m\u001b[0;34m,\u001b[0m\u001b[0;34m\u001b[0m\u001b[0;34m\u001b[0m\u001b[0m\n\u001b[1;32m    244\u001b[0m                                    y):\n\u001b[0;32m--> 245\u001b[0;31m         \u001b[0mself\u001b[0m\u001b[0;34m.\u001b[0m\u001b[0m_register_doc\u001b[0m\u001b[0;34m(\u001b[0m\u001b[0mX_factory\u001b[0m\u001b[0;34m,\u001b[0m \u001b[0mmX_factory\u001b[0m\u001b[0;34m,\u001b[0m \u001b[0mdocument_index\u001b[0m\u001b[0;34m,\u001b[0m \u001b[0mparsed_text\u001b[0m\u001b[0;34m,\u001b[0m \u001b[0mterm_idx_store\u001b[0m\u001b[0;34m,\u001b[0m \u001b[0mmetadata_idx_store\u001b[0m\u001b[0;34m)\u001b[0m\u001b[0;34m\u001b[0m\u001b[0;34m\u001b[0m\u001b[0m\n\u001b[0m\u001b[1;32m    246\u001b[0m         \u001b[0mself\u001b[0m\u001b[0;34m.\u001b[0m\u001b[0m_register_category\u001b[0m\u001b[0;34m(\u001b[0m\u001b[0mcategory\u001b[0m\u001b[0;34m,\u001b[0m \u001b[0mcategory_idx_store\u001b[0m\u001b[0;34m,\u001b[0m \u001b[0my\u001b[0m\u001b[0;34m)\u001b[0m\u001b[0;34m\u001b[0m\u001b[0;34m\u001b[0m\u001b[0m\n\u001b[1;32m    247\u001b[0m \u001b[0;34m\u001b[0m\u001b[0m\n",
            "\u001b[0;32m/usr/local/lib/python3.7/dist-packages/scattertext/TermDocMatrixFactory.py\u001b[0m in \u001b[0;36m_register_doc\u001b[0;34m(self, X_factory, mX_factory, document_index, parsed_text, term_idx_store, metadata_idx_store)\u001b[0m\n\u001b[1;32m    248\u001b[0m     \u001b[0;32mdef\u001b[0m \u001b[0m_register_doc\u001b[0m\u001b[0;34m(\u001b[0m\u001b[0mself\u001b[0m\u001b[0;34m,\u001b[0m \u001b[0mX_factory\u001b[0m\u001b[0;34m,\u001b[0m \u001b[0mmX_factory\u001b[0m\u001b[0;34m,\u001b[0m \u001b[0mdocument_index\u001b[0m\u001b[0;34m,\u001b[0m \u001b[0mparsed_text\u001b[0m\u001b[0;34m,\u001b[0m \u001b[0mterm_idx_store\u001b[0m\u001b[0;34m,\u001b[0m \u001b[0mmetadata_idx_store\u001b[0m\u001b[0;34m)\u001b[0m\u001b[0;34m:\u001b[0m\u001b[0;34m\u001b[0m\u001b[0;34m\u001b[0m\u001b[0m\n\u001b[1;32m    249\u001b[0m         \u001b[0;32mfor\u001b[0m \u001b[0mterm\u001b[0m\u001b[0;34m,\u001b[0m \u001b[0mcount\u001b[0m \u001b[0;32min\u001b[0m \u001b[0mself\u001b[0m\u001b[0;34m.\u001b[0m\u001b[0m_feats_from_spacy_doc\u001b[0m\u001b[0;34m.\u001b[0m\u001b[0mget_feats\u001b[0m\u001b[0;34m(\u001b[0m\u001b[0mparsed_text\u001b[0m\u001b[0;34m)\u001b[0m\u001b[0;34m.\u001b[0m\u001b[0mitems\u001b[0m\u001b[0;34m(\u001b[0m\u001b[0;34m)\u001b[0m\u001b[0;34m:\u001b[0m\u001b[0;34m\u001b[0m\u001b[0;34m\u001b[0m\u001b[0m\n\u001b[0;32m--> 250\u001b[0;31m             \u001b[0mterm_idx\u001b[0m \u001b[0;34m=\u001b[0m \u001b[0mterm_idx_store\u001b[0m\u001b[0;34m.\u001b[0m\u001b[0mgetidx\u001b[0m\u001b[0;34m(\u001b[0m\u001b[0mterm\u001b[0m\u001b[0;34m)\u001b[0m\u001b[0;34m\u001b[0m\u001b[0;34m\u001b[0m\u001b[0m\n\u001b[0m\u001b[1;32m    251\u001b[0m             \u001b[0mX_factory\u001b[0m\u001b[0;34m[\u001b[0m\u001b[0mdocument_index\u001b[0m\u001b[0;34m,\u001b[0m \u001b[0mterm_idx\u001b[0m\u001b[0;34m]\u001b[0m \u001b[0;34m=\u001b[0m \u001b[0mcount\u001b[0m\u001b[0;34m\u001b[0m\u001b[0;34m\u001b[0m\u001b[0m\n\u001b[1;32m    252\u001b[0m         \u001b[0;32mfor\u001b[0m \u001b[0mterm\u001b[0m\u001b[0;34m,\u001b[0m \u001b[0mval\u001b[0m \u001b[0;32min\u001b[0m \u001b[0mself\u001b[0m\u001b[0;34m.\u001b[0m\u001b[0m_feats_from_spacy_doc\u001b[0m\u001b[0;34m.\u001b[0m\u001b[0mget_doc_metadata\u001b[0m\u001b[0;34m(\u001b[0m\u001b[0mparsed_text\u001b[0m\u001b[0;34m)\u001b[0m\u001b[0;34m.\u001b[0m\u001b[0mitems\u001b[0m\u001b[0;34m(\u001b[0m\u001b[0;34m)\u001b[0m\u001b[0;34m:\u001b[0m\u001b[0;34m\u001b[0m\u001b[0;34m\u001b[0m\u001b[0m\n",
            "\u001b[0;32m/usr/local/lib/python3.7/dist-packages/scattertext/indexstore/IndexStore.py\u001b[0m in \u001b[0;36mgetidx\u001b[0;34m(self, val)\u001b[0m\n\u001b[1;32m     25\u001b[0m         \u001b[0;32mdef\u001b[0m \u001b[0mgetidx\u001b[0m\u001b[0;34m(\u001b[0m\u001b[0mself\u001b[0m\u001b[0;34m,\u001b[0m \u001b[0mval\u001b[0m\u001b[0;34m)\u001b[0m\u001b[0;34m:\u001b[0m\u001b[0;34m\u001b[0m\u001b[0;34m\u001b[0m\u001b[0m\n\u001b[1;32m     26\u001b[0m                 \u001b[0;32mtry\u001b[0m\u001b[0;34m:\u001b[0m\u001b[0;34m\u001b[0m\u001b[0;34m\u001b[0m\u001b[0m\n\u001b[0;32m---> 27\u001b[0;31m                         \u001b[0;32mreturn\u001b[0m \u001b[0mself\u001b[0m\u001b[0;34m.\u001b[0m\u001b[0m_val2i\u001b[0m\u001b[0;34m[\u001b[0m\u001b[0mval\u001b[0m\u001b[0;34m]\u001b[0m\u001b[0;34m\u001b[0m\u001b[0;34m\u001b[0m\u001b[0m\n\u001b[0m\u001b[1;32m     28\u001b[0m                 \u001b[0;32mexcept\u001b[0m \u001b[0mKeyError\u001b[0m\u001b[0;34m:\u001b[0m\u001b[0;34m\u001b[0m\u001b[0;34m\u001b[0m\u001b[0m\n\u001b[1;32m     29\u001b[0m                         \u001b[0mself\u001b[0m\u001b[0;34m.\u001b[0m\u001b[0m_val2i\u001b[0m\u001b[0;34m[\u001b[0m\u001b[0mval\u001b[0m\u001b[0;34m]\u001b[0m \u001b[0;34m=\u001b[0m \u001b[0mself\u001b[0m\u001b[0;34m.\u001b[0m\u001b[0m_next_i\u001b[0m\u001b[0;34m\u001b[0m\u001b[0;34m\u001b[0m\u001b[0m\n",
            "\u001b[0;31mKeyboardInterrupt\u001b[0m: "
          ]
        }
      ]
    },
    {
      "cell_type": "code",
      "metadata": {
        "id": "JPtoQBTzy1Ac"
      },
      "source": [
        "from IPython.display import IFrame\n",
        "from IPython.core.display import display, HTML\n",
        "display(HTML(\"<style>.container { width:98% !important; }</style>\"))\n",
        "file_name = 'NLP/tryit.html'\n",
        "open(file_name, 'wb').write(html.encode('utf-8'))\n",
        "IFrame(src=file_name, width = 1300, height=700\n",
        "HTML(html)\n",
        "\n"
      ],
      "execution_count": null,
      "outputs": []
    }
  ]
}